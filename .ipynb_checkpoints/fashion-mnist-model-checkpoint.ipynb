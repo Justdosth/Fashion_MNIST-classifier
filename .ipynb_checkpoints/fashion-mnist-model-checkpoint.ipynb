{
 "cells": [
  {
   "cell_type": "code",
   "execution_count": 1,
   "metadata": {},
   "outputs": [],
   "source": [
    "from tensorflow.keras.datasets import fashion_mnist\n",
    "(X_train, Y_train), (X_test, Y_test) = fashion_mnist.load_data()"
   ]
  },
  {
   "cell_type": "code",
   "execution_count": 2,
   "metadata": {},
   "outputs": [],
   "source": [
    "import matplotlib.pyplot as plt\n",
    "%matplotlib inline"
   ]
  },
  {
   "cell_type": "code",
   "execution_count": 3,
   "metadata": {},
   "outputs": [],
   "source": [
    "import tensorflow as tf\n",
    "import numpy as np"
   ]
  },
  {
   "cell_type": "code",
   "execution_count": 4,
   "metadata": {},
   "outputs": [],
   "source": [
    "from tensorflow.keras.layers import Input, Conv2D, MaxPooling2D, Flatten,Dense, Dropout, BatchNormalization\n",
    "from tensorflow.keras.models import Sequential\n",
    "from tensorflow.keras.optimizers import Adam, RMSprop"
   ]
  },
  {
   "cell_type": "code",
   "execution_count": 5,
   "metadata": {},
   "outputs": [],
   "source": [
    "class CustomCallbacks(tf.keras.callbacks.Callback):\n",
    "    def on_epoch_end(self, epoch, logs={}):\n",
    "      if(logs.get('accuracy')>0.95):\n",
    "        print(\"\\n 95% acc reached\")\n",
    "        self.model.stop_training = True"
   ]
  },
  {
   "cell_type": "code",
   "execution_count": 6,
   "metadata": {},
   "outputs": [],
   "source": [
    "img_width  = 28\n",
    "img_height = 28\n",
    "channels   = 1\n",
    "\n",
    "num_classes = 10\n",
    "\n",
    "batch_size = 250\n",
    "num_epochs = 80\n",
    "iterations = 5\n",
    "nb_augmentation = 2   "
   ]
  },
  {
   "cell_type": "code",
   "execution_count": 7,
   "metadata": {},
   "outputs": [],
   "source": [
    "from tensorflow.keras.preprocessing.image import ImageDataGenerator\n",
    "\n",
    "# Defines the options for augmentation\n",
    "datagen = ImageDataGenerator(\n",
    "    rotation_range=10,\n",
    "    horizontal_flip=True,\n",
    "    fill_mode='nearest'\n",
    ")\n",
    "\n",
    "def image_augmentation(image, nb_of_augmentation):\n",
    "    '''\n",
    "    Generates new images bei augmentation\n",
    "    image : raw image\n",
    "    nb_augmentation: number of augmentations\n",
    "    images: array with new images\n",
    "    '''\n",
    "    images = []\n",
    "    image = image.reshape(1, img_height, img_width, channels)\n",
    "    i = 0\n",
    "    for x_batch in datagen.flow(image, batch_size=1):\n",
    "        images.append(x_batch)\n",
    "        i += 1\n",
    "        if i >= nb_of_augmentation:\n",
    "            # interrupt augmentation\n",
    "            break\n",
    "    return images"
   ]
  },
  {
   "cell_type": "code",
   "execution_count": 8,
   "metadata": {},
   "outputs": [],
   "source": [
    "import tensorflow as tf\n",
    "\n",
    "def preprocess_data(images, targets, use_augmentation=False, nb_of_augmentation=1):\n",
    "    \"\"\"\n",
    "    images: raw image\n",
    "    targets: target label\n",
    "    use_augmentation: True if augmentation should be used\n",
    "    nb_of_augmentation: If use_augmentation=True, number of augmentations\n",
    "    \"\"\"\n",
    "    X = []\n",
    "    y = []\n",
    "    for x_, y_ in zip(images, targets):\n",
    "        \n",
    "        # scaling pixels between 0.0-1.0\n",
    "        x_ = x_ / 255.\n",
    "        \n",
    "        # data Augmentation\n",
    "        if use_augmentation:\n",
    "            argu_img = image_augmentation(x_, nb_of_augmentation)\n",
    "            for a in argu_img:\n",
    "                X.append(a.reshape(img_height, img_width, channels))\n",
    "                y.append(y_)\n",
    "\n",
    "        X.append(x_)\n",
    "        y.append(y_)\n",
    "    print('*Preprocessing completed: %i samples\\n' % len(X))\n",
    "    return np.array(X), tf.keras.utils.to_categorical(y)"
   ]
  },
  {
   "cell_type": "code",
   "execution_count": 9,
   "metadata": {},
   "outputs": [],
   "source": [
    "X_train = X_train.reshape(-1, 28, 28, 1)"
   ]
  },
  {
   "cell_type": "code",
   "execution_count": 10,
   "metadata": {},
   "outputs": [
    {
     "name": "stdout",
     "output_type": "stream",
     "text": [
      "*Preprocessing completed: 180000 samples\n",
      "\n"
     ]
    }
   ],
   "source": [
    "X_train_shaped, y_train_shaped = preprocess_data(\n",
    "    X_train, Y_train, \n",
    "    use_augmentation=True, \n",
    "    nb_of_augmentation=nb_augmentation\n",
    ")\n"
   ]
  },
  {
   "cell_type": "code",
   "execution_count": 11,
   "metadata": {},
   "outputs": [
    {
     "name": "stdout",
     "output_type": "stream",
     "text": [
      "*Preprocessing completed: 10000 samples\n",
      "\n"
     ]
    }
   ],
   "source": [
    "X_test_shaped, y_test_shaped   = preprocess_data(X_test,  Y_test)"
   ]
  },
  {
   "cell_type": "code",
   "execution_count": 12,
   "metadata": {},
   "outputs": [
    {
     "name": "stdout",
     "output_type": "stream",
     "text": [
      "Model: \"sequential\"\n",
      "_________________________________________________________________\n",
      "Layer (type)                 Output Shape              Param #   \n",
      "=================================================================\n",
      "batch_normalization (BatchNo (None, 28, 28, 1)         4         \n",
      "_________________________________________________________________\n",
      "conv2d (Conv2D)              (None, 28, 28, 64)        1088      \n",
      "_________________________________________________________________\n",
      "max_pooling2d (MaxPooling2D) (None, 14, 14, 64)        0         \n",
      "_________________________________________________________________\n",
      "dropout (Dropout)            (None, 14, 14, 64)        0         \n",
      "_________________________________________________________________\n",
      "conv2d_1 (Conv2D)            (None, 11, 11, 64)        65600     \n",
      "_________________________________________________________________\n",
      "max_pooling2d_1 (MaxPooling2 (None, 5, 5, 64)          0         \n",
      "_________________________________________________________________\n",
      "dropout_1 (Dropout)          (None, 5, 5, 64)          0         \n",
      "_________________________________________________________________\n",
      "flatten (Flatten)            (None, 1600)              0         \n",
      "_________________________________________________________________\n",
      "dense (Dense)                (None, 256)               409856    \n",
      "_________________________________________________________________\n",
      "dropout_2 (Dropout)          (None, 256)               0         \n",
      "_________________________________________________________________\n",
      "dense_1 (Dense)              (None, 64)                16448     \n",
      "_________________________________________________________________\n",
      "batch_normalization_1 (Batch (None, 64)                256       \n",
      "_________________________________________________________________\n",
      "dense_2 (Dense)              (None, 10)                650       \n",
      "=================================================================\n",
      "Total params: 493,902\n",
      "Trainable params: 493,772\n",
      "Non-trainable params: 130\n",
      "_________________________________________________________________\n"
     ]
    }
   ],
   "source": [
    "def create_model():\n",
    "    \"\"\"\n",
    "    Creates a simple sequential model\n",
    "    \"\"\"\n",
    "    \n",
    "    cnn = tf.keras.Sequential()\n",
    "    \n",
    "    cnn.add(tf.keras.layers.InputLayer(input_shape=(img_height,img_width,channels)))\n",
    "    \n",
    "    # Normalization\n",
    "    cnn.add(tf.keras.layers.BatchNormalization())\n",
    "    \n",
    "    # Conv + Maxpooling\n",
    "    cnn.add(tf.keras.layers.Convolution2D(64, (4, 4), padding='same', activation='relu'))\n",
    "    cnn.add(tf.keras.layers.MaxPooling2D(pool_size=(2, 2)))\n",
    "\n",
    "    # Dropout\n",
    "    cnn.add(tf.keras.layers.Dropout(0.1))\n",
    "    \n",
    "    # Conv + Maxpooling\n",
    "    cnn.add(tf.keras.layers.Convolution2D(64, (4, 4), activation='relu'))\n",
    "    cnn.add(tf.keras.layers.MaxPooling2D(pool_size=(2, 2)))\n",
    "\n",
    "    # Dropout\n",
    "    cnn.add(tf.keras.layers.Dropout(0.3))\n",
    "\n",
    "    # Converting 3D feature to 1D feature Vektor\n",
    "    cnn.add(tf.keras.layers.Flatten())\n",
    "\n",
    "    # Fully Connected Layer\n",
    "    cnn.add(tf.keras.layers.Dense(256, activation='relu'))\n",
    "\n",
    "    # Dropout\n",
    "    cnn.add(tf.keras.layers.Dropout(0.5))\n",
    "    \n",
    "    # Fully Connected Layer\n",
    "    cnn.add(tf.keras.layers.Dense(64, activation='relu'))\n",
    "    \n",
    "    # Normalization\n",
    "    cnn.add(tf.keras.layers.BatchNormalization())\n",
    "\n",
    "    cnn.add(tf.keras.layers.Dense(num_classes, activation='softmax'))\n",
    "    cnn.compile(loss='categorical_crossentropy', optimizer=Adam(), metrics=['accuracy']) #RMSprop()\n",
    "\n",
    "    return cnn\n",
    "\n",
    "create_model().summary()"
   ]
  },
  {
   "cell_type": "code",
   "execution_count": 13,
   "metadata": {},
   "outputs": [],
   "source": [
    "from sklearn.model_selection import train_test_split\n",
    "X_train_, X_val_, y_train_, y_val_ = train_test_split(X_train_shaped, y_train_shaped,test_size=0.2, random_state=42)"
   ]
  },
  {
   "cell_type": "code",
   "execution_count": 14,
   "metadata": {},
   "outputs": [
    {
     "name": "stdout",
     "output_type": "stream",
     "text": [
      "Epoch 1/80\n",
      "576/576 [==============================] - 130s 226ms/step - loss: 0.4994 - accuracy: 0.8203 - val_loss: 0.3910 - val_accuracy: 0.8535\n",
      "Epoch 2/80\n",
      "576/576 [==============================] - 130s 226ms/step - loss: 0.3324 - accuracy: 0.8777 - val_loss: 0.2720 - val_accuracy: 0.8990\n",
      "Epoch 3/80\n",
      "576/576 [==============================] - 127s 220ms/step - loss: 0.2957 - accuracy: 0.8923 - val_loss: 0.2495 - val_accuracy: 0.9081\n",
      "Epoch 4/80\n",
      "576/576 [==============================] - 124s 215ms/step - loss: 0.2746 - accuracy: 0.8997 - val_loss: 0.2367 - val_accuracy: 0.9137\n",
      "Epoch 5/80\n",
      "576/576 [==============================] - 123s 214ms/step - loss: 0.2585 - accuracy: 0.9055 - val_loss: 0.2281 - val_accuracy: 0.9156\n",
      "Epoch 6/80\n",
      "576/576 [==============================] - 123s 214ms/step - loss: 0.2473 - accuracy: 0.9094 - val_loss: 0.2245 - val_accuracy: 0.9192\n",
      "Epoch 7/80\n",
      "576/576 [==============================] - 122s 213ms/step - loss: 0.2373 - accuracy: 0.9135 - val_loss: 0.2296 - val_accuracy: 0.9154\n",
      "Epoch 8/80\n",
      "576/576 [==============================] - 122s 212ms/step - loss: 0.2305 - accuracy: 0.9154 - val_loss: 0.2109 - val_accuracy: 0.9233\n",
      "Epoch 9/80\n",
      "576/576 [==============================] - 121s 210ms/step - loss: 0.2242 - accuracy: 0.9186 - val_loss: 0.1973 - val_accuracy: 0.9286\n",
      "Epoch 10/80\n",
      "576/576 [==============================] - 119s 207ms/step - loss: 0.2186 - accuracy: 0.9204 - val_loss: 0.2293 - val_accuracy: 0.9149\n",
      "Epoch 11/80\n",
      "576/576 [==============================] - 121s 210ms/step - loss: 0.2124 - accuracy: 0.9227 - val_loss: 0.2025 - val_accuracy: 0.9247\n",
      "Epoch 12/80\n",
      "576/576 [==============================] - 119s 207ms/step - loss: 0.2089 - accuracy: 0.9238 - val_loss: 0.1886 - val_accuracy: 0.9312\n",
      "Epoch 13/80\n",
      "576/576 [==============================] - 120s 209ms/step - loss: 0.2060 - accuracy: 0.9244 - val_loss: 0.1889 - val_accuracy: 0.9312\n",
      "Epoch 14/80\n",
      "576/576 [==============================] - 121s 210ms/step - loss: 0.2017 - accuracy: 0.9261 - val_loss: 0.1883 - val_accuracy: 0.9316\n",
      "Epoch 15/80\n",
      "576/576 [==============================] - 120s 209ms/step - loss: 0.1981 - accuracy: 0.9281 - val_loss: 0.1847 - val_accuracy: 0.9323\n",
      "Epoch 16/80\n",
      "576/576 [==============================] - 121s 210ms/step - loss: 0.1948 - accuracy: 0.9296 - val_loss: 0.1847 - val_accuracy: 0.9333\n",
      "Epoch 17/80\n",
      "576/576 [==============================] - 121s 211ms/step - loss: 0.1931 - accuracy: 0.9290 - val_loss: 0.1823 - val_accuracy: 0.9315\n",
      "Epoch 18/80\n",
      "576/576 [==============================] - 121s 209ms/step - loss: 0.1912 - accuracy: 0.9305 - val_loss: 0.2013 - val_accuracy: 0.9268\n",
      "Epoch 19/80\n",
      "576/576 [==============================] - 119s 207ms/step - loss: 0.1890 - accuracy: 0.9306 - val_loss: 0.1799 - val_accuracy: 0.9363\n",
      "Epoch 20/80\n",
      "576/576 [==============================] - 118s 205ms/step - loss: 0.1870 - accuracy: 0.9321 - val_loss: 0.1837 - val_accuracy: 0.9360\n",
      "Epoch 21/80\n",
      "576/576 [==============================] - 119s 207ms/step - loss: 0.1848 - accuracy: 0.9329 - val_loss: 0.1697 - val_accuracy: 0.9382\n",
      "Epoch 22/80\n",
      "576/576 [==============================] - 117s 203ms/step - loss: 0.1819 - accuracy: 0.9340 - val_loss: 0.1749 - val_accuracy: 0.9378\n",
      "Epoch 23/80\n",
      "576/576 [==============================] - 121s 210ms/step - loss: 0.1807 - accuracy: 0.9342 - val_loss: 0.1698 - val_accuracy: 0.9387\n",
      "Epoch 24/80\n",
      "576/576 [==============================] - 126s 219ms/step - loss: 0.1794 - accuracy: 0.9357 - val_loss: 0.1684 - val_accuracy: 0.9409\n",
      "Epoch 25/80\n",
      "576/576 [==============================] - 122s 212ms/step - loss: 0.1784 - accuracy: 0.9357 - val_loss: 0.1850 - val_accuracy: 0.9321\n",
      "Epoch 26/80\n",
      "576/576 [==============================] - 125s 218ms/step - loss: 0.1755 - accuracy: 0.9361 - val_loss: 0.1765 - val_accuracy: 0.9358\n",
      "Epoch 27/80\n",
      "576/576 [==============================] - 127s 221ms/step - loss: 0.1756 - accuracy: 0.9362 - val_loss: 0.1727 - val_accuracy: 0.9386\n",
      "Epoch 28/80\n",
      "576/576 [==============================] - 125s 218ms/step - loss: 0.1746 - accuracy: 0.9363 - val_loss: 0.1691 - val_accuracy: 0.9394\n",
      "Epoch 29/80\n",
      "576/576 [==============================] - 123s 214ms/step - loss: 0.1718 - accuracy: 0.9388 - val_loss: 0.1721 - val_accuracy: 0.9377\n",
      "Epoch 30/80\n",
      "576/576 [==============================] - 124s 216ms/step - loss: 0.1706 - accuracy: 0.9377 - val_loss: 0.1647 - val_accuracy: 0.9398\n",
      "Epoch 31/80\n",
      "576/576 [==============================] - 121s 210ms/step - loss: 0.1695 - accuracy: 0.9383 - val_loss: 0.1648 - val_accuracy: 0.9412\n",
      "Epoch 32/80\n",
      "576/576 [==============================] - 123s 214ms/step - loss: 0.1687 - accuracy: 0.9384 - val_loss: 0.1858 - val_accuracy: 0.9355\n",
      "Epoch 33/80\n",
      "576/576 [==============================] - 122s 212ms/step - loss: 0.1667 - accuracy: 0.9386 - val_loss: 0.1633 - val_accuracy: 0.9402\n",
      "Epoch 34/80\n",
      "576/576 [==============================] - 123s 213ms/step - loss: 0.1666 - accuracy: 0.9395 - val_loss: 0.1663 - val_accuracy: 0.9398\n",
      "Epoch 35/80\n",
      "576/576 [==============================] - 123s 213ms/step - loss: 0.1662 - accuracy: 0.9397 - val_loss: 0.1747 - val_accuracy: 0.9381\n",
      "Epoch 36/80\n",
      "576/576 [==============================] - 125s 217ms/step - loss: 0.1669 - accuracy: 0.9391 - val_loss: 0.1647 - val_accuracy: 0.9403\n",
      "Epoch 37/80\n",
      "576/576 [==============================] - 140s 243ms/step - loss: 0.1629 - accuracy: 0.9409 - val_loss: 0.1937 - val_accuracy: 0.9271\n",
      "Epoch 38/80\n",
      "576/576 [==============================] - 141s 245ms/step - loss: 0.1629 - accuracy: 0.9408 - val_loss: 0.1587 - val_accuracy: 0.9424\n",
      "Epoch 39/80\n",
      "576/576 [==============================] - 142s 246ms/step - loss: 0.1621 - accuracy: 0.9408 - val_loss: 0.1589 - val_accuracy: 0.9429\n",
      "Epoch 40/80\n",
      "576/576 [==============================] - 151s 262ms/step - loss: 0.1625 - accuracy: 0.9407 - val_loss: 0.1629 - val_accuracy: 0.9420\n",
      "Epoch 41/80\n",
      "576/576 [==============================] - 135s 234ms/step - loss: 0.1607 - accuracy: 0.9413 - val_loss: 0.1590 - val_accuracy: 0.9432\n",
      "Epoch 42/80\n",
      "576/576 [==============================] - 132s 230ms/step - loss: 0.1594 - accuracy: 0.9420 - val_loss: 0.1670 - val_accuracy: 0.9413\n",
      "Epoch 43/80\n",
      "576/576 [==============================] - 138s 240ms/step - loss: 0.1599 - accuracy: 0.9416 - val_loss: 0.1580 - val_accuracy: 0.9438\n",
      "Epoch 44/80\n",
      "576/576 [==============================] - 134s 233ms/step - loss: 0.1576 - accuracy: 0.9430 - val_loss: 0.1659 - val_accuracy: 0.9397\n",
      "Epoch 45/80\n",
      "576/576 [==============================] - 136s 236ms/step - loss: 0.1577 - accuracy: 0.9431 - val_loss: 0.1650 - val_accuracy: 0.9398\n",
      "Epoch 46/80\n",
      "576/576 [==============================] - 129s 224ms/step - loss: 0.1570 - accuracy: 0.9423 - val_loss: 0.1615 - val_accuracy: 0.9417\n",
      "Epoch 47/80\n",
      "576/576 [==============================] - 128s 222ms/step - loss: 0.1562 - accuracy: 0.9434 - val_loss: 0.1575 - val_accuracy: 0.9438\n",
      "Epoch 48/80\n",
      "576/576 [==============================] - 129s 223ms/step - loss: 0.1548 - accuracy: 0.9438 - val_loss: 0.1553 - val_accuracy: 0.9445\n",
      "Epoch 49/80\n",
      "576/576 [==============================] - 128s 222ms/step - loss: 0.1550 - accuracy: 0.9439 - val_loss: 0.1548 - val_accuracy: 0.9442\n",
      "Epoch 50/80\n",
      "576/576 [==============================] - 127s 221ms/step - loss: 0.1543 - accuracy: 0.9442 - val_loss: 0.1563 - val_accuracy: 0.9430\n",
      "Epoch 51/80\n",
      "576/576 [==============================] - 124s 215ms/step - loss: 0.1546 - accuracy: 0.9441 - val_loss: 0.1544 - val_accuracy: 0.9460\n",
      "Epoch 52/80\n",
      "576/576 [==============================] - 125s 218ms/step - loss: 0.1513 - accuracy: 0.9450 - val_loss: 0.1597 - val_accuracy: 0.9437\n",
      "Epoch 53/80\n",
      "576/576 [==============================] - 124s 216ms/step - loss: 0.1523 - accuracy: 0.9448 - val_loss: 0.1536 - val_accuracy: 0.9444\n",
      "Epoch 54/80\n",
      "576/576 [==============================] - 122s 213ms/step - loss: 0.1519 - accuracy: 0.9445 - val_loss: 0.1554 - val_accuracy: 0.9442\n",
      "Epoch 55/80\n",
      "576/576 [==============================] - 122s 212ms/step - loss: 0.1500 - accuracy: 0.9460 - val_loss: 0.1587 - val_accuracy: 0.9429\n",
      "Epoch 56/80\n",
      "576/576 [==============================] - 129s 223ms/step - loss: 0.1507 - accuracy: 0.9455 - val_loss: 0.1552 - val_accuracy: 0.9436\n"
     ]
    },
    {
     "name": "stdout",
     "output_type": "stream",
     "text": [
      "Epoch 57/80\n",
      "576/576 [==============================] - 129s 225ms/step - loss: 0.1506 - accuracy: 0.9446 - val_loss: 0.1592 - val_accuracy: 0.9429\n",
      "Epoch 58/80\n",
      "576/576 [==============================] - 126s 219ms/step - loss: 0.1517 - accuracy: 0.9446 - val_loss: 0.1683 - val_accuracy: 0.9410\n",
      "Epoch 59/80\n",
      "576/576 [==============================] - 132s 228ms/step - loss: 0.1511 - accuracy: 0.9455 - val_loss: 0.1640 - val_accuracy: 0.9412\n",
      "Epoch 60/80\n",
      "576/576 [==============================] - 128s 223ms/step - loss: 0.1496 - accuracy: 0.9457 - val_loss: 0.1602 - val_accuracy: 0.9421\n",
      "Epoch 61/80\n",
      "576/576 [==============================] - 127s 220ms/step - loss: 0.1474 - accuracy: 0.9465 - val_loss: 0.1548 - val_accuracy: 0.9449\n",
      "Epoch 62/80\n",
      "576/576 [==============================] - 138s 240ms/step - loss: 0.1475 - accuracy: 0.9461 - val_loss: 0.1509 - val_accuracy: 0.9453\n",
      "Epoch 63/80\n",
      "576/576 [==============================] - 135s 235ms/step - loss: 0.1493 - accuracy: 0.9458 - val_loss: 0.1621 - val_accuracy: 0.9442\n",
      "Epoch 64/80\n",
      "576/576 [==============================] - 135s 234ms/step - loss: 0.1475 - accuracy: 0.9464 - val_loss: 0.1529 - val_accuracy: 0.9447\n",
      "Epoch 65/80\n",
      "576/576 [==============================] - 138s 239ms/step - loss: 0.1478 - accuracy: 0.9464 - val_loss: 0.1579 - val_accuracy: 0.9432\n",
      "Epoch 66/80\n",
      "576/576 [==============================] - 143s 249ms/step - loss: 0.1474 - accuracy: 0.9468 - val_loss: 0.1564 - val_accuracy: 0.9447\n",
      "Epoch 67/80\n",
      "576/576 [==============================] - 150s 261ms/step - loss: 0.1481 - accuracy: 0.9459 - val_loss: 0.1584 - val_accuracy: 0.9440\n",
      "Epoch 68/80\n",
      "576/576 [==============================] - 134s 233ms/step - loss: 0.1466 - accuracy: 0.9468 - val_loss: 0.1532 - val_accuracy: 0.9451\n",
      "Epoch 69/80\n",
      "576/576 [==============================] - 129s 224ms/step - loss: 0.1458 - accuracy: 0.9472 - val_loss: 0.1561 - val_accuracy: 0.9433\n",
      "Epoch 70/80\n",
      "576/576 [==============================] - 135s 235ms/step - loss: 0.1476 - accuracy: 0.9467 - val_loss: 0.1700 - val_accuracy: 0.9368\n",
      "Epoch 71/80\n",
      "576/576 [==============================] - 143s 248ms/step - loss: 0.1457 - accuracy: 0.9476 - val_loss: 0.1482 - val_accuracy: 0.9471\n",
      "Epoch 72/80\n",
      "576/576 [==============================] - 147s 255ms/step - loss: 0.1470 - accuracy: 0.9469 - val_loss: 0.1513 - val_accuracy: 0.9454\n",
      "Epoch 73/80\n",
      "576/576 [==============================] - 147s 255ms/step - loss: 0.1444 - accuracy: 0.9473 - val_loss: 0.1491 - val_accuracy: 0.9469\n",
      "Epoch 74/80\n",
      "576/576 [==============================] - 144s 250ms/step - loss: 0.1446 - accuracy: 0.9481 - val_loss: 0.1746 - val_accuracy: 0.9369\n",
      "Epoch 75/80\n",
      "576/576 [==============================] - 218s 378ms/step - loss: 0.1440 - accuracy: 0.9480 - val_loss: 0.1606 - val_accuracy: 0.9442\n",
      "Epoch 76/80\n",
      "576/576 [==============================] - 247s 429ms/step - loss: 0.1438 - accuracy: 0.9481 - val_loss: 0.1531 - val_accuracy: 0.9455\n",
      "Epoch 77/80\n",
      "576/576 [==============================] - 266s 462ms/step - loss: 0.1427 - accuracy: 0.9484 - val_loss: 0.1623 - val_accuracy: 0.9421\n",
      "Epoch 78/80\n",
      "576/576 [==============================] - 270s 469ms/step - loss: 0.1423 - accuracy: 0.9485 - val_loss: 0.1472 - val_accuracy: 0.9479\n",
      "Epoch 79/80\n",
      "576/576 [==============================] - 128s 221ms/step - loss: 0.1442 - accuracy: 0.9481 - val_loss: 0.1550 - val_accuracy: 0.9449\n",
      "Epoch 80/80\n",
      "576/576 [==============================] - 125s 217ms/step - loss: 0.1422 - accuracy: 0.9484 - val_loss: 0.1675 - val_accuracy: 0.9396\n"
     ]
    }
   ],
   "source": [
    "cnn = create_model()\n",
    "history = cnn.fit(\n",
    "                    X_train_,\n",
    "                    y_train_,\n",
    "                    epochs=num_epochs,\n",
    "                    batch_size=batch_size,\n",
    "                    validation_data=(X_val_, y_val_),\n",
    "                    callbacks=[CustomCallbacks()]\n",
    "                )"
   ]
  },
  {
   "cell_type": "code",
   "execution_count": 40,
   "metadata": {},
   "outputs": [],
   "source": [
    " cnn.save_weights(\"fashion-mnist.hdf5\") #with adam"
   ]
  },
  {
   "cell_type": "code",
   "execution_count": 15,
   "metadata": {},
   "outputs": [],
   "source": [
    " cnn.save_weights(\"fashion-mnist-1.hdf5\") #with rmsprop"
   ]
  },
  {
   "cell_type": "code",
   "execution_count": 16,
   "metadata": {},
   "outputs": [],
   "source": [
    "def plot_acc_loss(title, model, key_acc, key_loss):\n",
    "    fig, (ax1, ax2) = plt.subplots(1, 2)\n",
    "    \n",
    "    # Accuracy\n",
    "    ax1.set_title('Model accuracy (%s)' % title)\n",
    "    names = []\n",
    "    ax1.plot(model[key_acc])\n",
    "    ax1.set_xlabel('epoch')\n",
    "    names.append('Model')\n",
    "    ax1.set_ylabel('accuracy')\n",
    "    ax1.legend(names, loc='upper left')\n",
    "    \n",
    "    # Loss\n",
    "    ax2.set_title('Model loss')\n",
    "    ax2.plot(model[key_loss])\n",
    "    ax2.set_xlabel('epoch')\n",
    "    ax2.set_ylabel('loss')\n",
    "    ax2.legend(names, loc='upper right')\n",
    "    fig.set_size_inches(20, 5)\n",
    "    plt.show()"
   ]
  },
  {
   "cell_type": "code",
   "execution_count": 17,
   "metadata": {},
   "outputs": [
    {
     "data": {
      "image/png": "[encoded data removed]",
      "text/plain": [
       "<Figure size 1440x360 with 2 Axes>"
      ]
     },
     "metadata": {
      "needs_background": "light"
     },
     "output_type": "display_data"
    },
    {
     "data": {
      "image/png": "[encoded data removed]",
      "text/plain": [
       "<Figure size 1440x360 with 2 Axes>"
      ]
     },
     "metadata": {
      "needs_background": "light"
     },
     "output_type": "display_data"
    }
   ],
   "source": [
    "plot_acc_loss('training', history.history, 'accuracy', 'loss')\n",
    "plot_acc_loss('validation', history.history, 'val_accuracy', 'val_loss')"
   ]
  }
 ],
 "metadata": {
  "kernelspec": {
   "display_name": "Python 3",
   "language": "python",
   "name": "python3"
  },
  "language_info": {
   "codemirror_mode": {
    "name": "ipython",
    "version": 3
   },
   "file_extension": ".py",
   "mimetype": "text/x-python",
   "name": "python",
   "nbconvert_exporter": "python",
   "pygments_lexer": "ipython3",
   "version": "3.6.9"
  }
 },
 "nbformat": 4,
 "nbformat_minor": 2
}
