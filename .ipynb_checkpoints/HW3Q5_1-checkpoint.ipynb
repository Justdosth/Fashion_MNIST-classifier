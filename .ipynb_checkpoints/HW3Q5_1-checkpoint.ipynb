{
 "cells": [
  {
   "cell_type": "code",
   "execution_count": 1,
   "metadata": {
    "id": "oDfDnlliPMd-"
   },
   "outputs": [],
   "source": [
    "%matplotlib inline\n",
    "import cv2\n",
    "import os\n",
    "import numpy as np\n",
    "import keras\n",
    "import matplotlib.pyplot as plt\n",
    "# import download\n",
    "from random import shuffle\n",
    "from tensorflow.keras.applications import ResNet50\n",
    "from tensorflow.keras import backend as K\n",
    "from tensorflow.keras.models import Model, Sequential\n",
    "from tensorflow.keras.layers import Input\n",
    "from tensorflow.keras.layers import LSTM\n",
    "from tensorflow.keras.layers import Dense, Activation\n",
    "import sys\n",
    "import h5py"
   ]
  },
  {
   "cell_type": "code",
   "execution_count": 2,
   "metadata": {
    "id": "qnafWmS7P3CG"
   },
   "outputs": [],
   "source": [
    "def print_progress(count, max_count):\n",
    "    # Percentage completion.\n",
    "    pct_complete = count / max_count\n",
    "\n",
    "    # Status-message. Note the \\r which means the line should overwrite itself.\n",
    "    msg = \"\\r- Progress: {0:.1%}\".format(pct_complete)\n",
    "\n",
    "    # Print it.\n",
    "    sys.stdout.write(msg)\n",
    "    sys.stdout.flush()"
   ]
  },
  {
   "cell_type": "markdown",
   "metadata": {
    "id": "zoAH2Q3bKIPH"
   },
   "source": [
    "download data from here \n",
    "\n",
    "https://drive.google.com/file/d/1Nx4NRK6aYMrZqmGTJEgQKfhm0pFI7XfG/view?usp=sharing\n",
    "\n",
    "and mount google drive to colab. My path '/content/MyDrive'\n"
   ]
  },
  {
   "cell_type": "code",
   "execution_count": 3,
   "metadata": {
    "colab": {
     "base_uri": "https://localhost:8080/"
    },
    "id": "fvHOg0Y_Kyjl",
    "outputId": "58de72ca-026d-4b1d-ecb0-98856d82ea81"
   },
   "outputs": [
    {
     "ename": "ModuleNotFoundError",
     "evalue": "No module named 'google.colab'",
     "output_type": "error",
     "traceback": [
      "\u001b[0;31m---------------------------------------------------------------------------\u001b[0m",
      "\u001b[0;31mModuleNotFoundError\u001b[0m                       Traceback (most recent call last)",
      "\u001b[0;32m<ipython-input-3-80f737809c3d>\u001b[0m in \u001b[0;36m<module>\u001b[0;34m\u001b[0m\n\u001b[0;32m----> 1\u001b[0;31m \u001b[0;32mfrom\u001b[0m \u001b[0mgoogle\u001b[0m\u001b[0;34m.\u001b[0m\u001b[0mcolab\u001b[0m \u001b[0;32mimport\u001b[0m \u001b[0mdrive\u001b[0m\u001b[0;34m\u001b[0m\u001b[0;34m\u001b[0m\u001b[0m\n\u001b[0m\u001b[1;32m      2\u001b[0m \u001b[0mdrive\u001b[0m\u001b[0;34m.\u001b[0m\u001b[0mmount\u001b[0m\u001b[0;34m(\u001b[0m\u001b[0;34m'/content/MyDrive'\u001b[0m\u001b[0;34m)\u001b[0m\u001b[0;34m\u001b[0m\u001b[0;34m\u001b[0m\u001b[0m\n",
      "\u001b[0;31mModuleNotFoundError\u001b[0m: No module named 'google.colab'"
     ]
    }
   ],
   "source": [
    "from google.colab import drive\n",
    "drive.mount('/content/MyDrive')"
   ]
  },
  {
   "cell_type": "code",
   "execution_count": null,
   "metadata": {
    "id": "MGFBNXAWLJ8N"
   },
   "outputs": [],
   "source": [
    "!cd /content/MyDrive/MyDrive/ && unzip Hockey_dataset.zip"
   ]
  },
  {
   "cell_type": "code",
   "execution_count": null,
   "metadata": {
    "id": "RiRKgwBgP-NY"
   },
   "outputs": [],
   "source": [
    "in_dir = \"/content/MyDrive/MyDrive/data\""
   ]
  },
  {
   "cell_type": "code",
   "execution_count": null,
   "metadata": {
    "id": "SXTNEj6SRLZZ"
   },
   "outputs": [],
   "source": [
    "# Frame size  \n",
    "img_size = 224\n",
    "\n",
    "img_size_touple = (img_size, img_size)\n",
    "\n",
    "# Number of channels (RGB)\n",
    "num_channels = 3\n",
    "\n",
    "# Flat frame size\n",
    "img_size_flat = img_size * img_size * num_channels\n",
    "\n",
    "# Number of classes for classification (Fight - No Fight)\n",
    "num_classes = 2\n",
    "\n",
    "# Number of files to train\n",
    "_num_files_train = 1\n",
    "\n",
    "# Number of frames per video\n",
    "_images_per_file = 20\n",
    "\n",
    "# Number of frames per training set\n",
    "_num_images_train = _num_files_train * _images_per_file\n",
    "\n",
    "# Video extension\n",
    "video_exts = \".avi\""
   ]
  },
  {
   "cell_type": "code",
   "execution_count": null,
   "metadata": {
    "id": "eu9c4a-3RVkO"
   },
   "outputs": [],
   "source": [
    "def get_frames(current_dir, file_name):\n",
    "    \n",
    "    in_file = os.path.join(current_dir, file_name)\n",
    "    \n",
    "    images = []\n",
    "    \n",
    "    vidcap = cv2.VideoCapture(in_file)\n",
    "    \n",
    "    success,image = vidcap.read()\n",
    "        \n",
    "    count = 0\n",
    "\n",
    "    while count<_images_per_file:\n",
    "                \n",
    "        RGB_img = cv2.cvtColor(image, cv2.COLOR_BGR2RGB)\n",
    "    \n",
    "        res = cv2.resize(RGB_img, dsize=(img_size, img_size),\n",
    "                                 interpolation=cv2.INTER_CUBIC)\n",
    "    \n",
    "        images.append(res)\n",
    "    \n",
    "        success,image = vidcap.read()\n",
    "    \n",
    "        count += 1\n",
    "        \n",
    "    resul = np.array(images)\n",
    "    \n",
    "    resul = (resul / 255.).astype(np.float16)\n",
    "        \n",
    "    return resul"
   ]
  },
  {
   "cell_type": "code",
   "execution_count": null,
   "metadata": {
    "id": "Qiv5NIJjRbIA"
   },
   "outputs": [],
   "source": [
    "def label_video_names(in_dir):\n",
    "    \n",
    "    # list containing video names\n",
    "    names = []\n",
    "    # list containin video labels [1, 0] if it has violence and [0, 1] if not\n",
    "    labels = []\n",
    "    \n",
    "    \n",
    "    for current_dir, dir_names,file_names in os.walk(in_dir):\n",
    "        \n",
    "        for file_name in file_names:\n",
    "            \n",
    "            if file_name[0:2] == 'fi':\n",
    "                labels.append([1,0])\n",
    "                names.append(file_name)\n",
    "            elif file_name[0:2] == 'no':\n",
    "                labels.append([0,1])\n",
    "                names.append(file_name)\n",
    "                     \n",
    "            \n",
    "    c = list(zip(names,labels))\n",
    "    # Suffle the data (names and labels)\n",
    "    shuffle(c)\n",
    "    \n",
    "    names, labels = zip(*c)\n",
    "            \n",
    "    return names, labels"
   ]
  },
  {
   "cell_type": "code",
   "execution_count": null,
   "metadata": {
    "id": "dIsaAgcyRfIx"
   },
   "outputs": [],
   "source": [
    "# First get the names and labels of the whole videos\n",
    "names, labels = label_video_names(in_dir)"
   ]
  },
  {
   "cell_type": "code",
   "execution_count": null,
   "metadata": {
    "colab": {
     "base_uri": "https://localhost:8080/"
    },
    "id": "MjRN6oE4SC81",
    "outputId": "307c5c76-c8e1-493b-8fbe-c2a3c9d9197f"
   },
   "outputs": [
    {
     "name": "stdout",
     "output_type": "stream",
     "text": [
      "Downloading data from https://storage.googleapis.com/tensorflow/keras-applications/vgg16/vgg16_weights_tf_dim_ordering_tf_kernels.h5\n",
      "553467904/553467096 [==============================] - 5s 0us/step\n",
      "553476096/553467096 [==============================] - 5s 0us/step\n"
     ]
    }
   ],
   "source": [
    "image_model = ResNet50(include_top=True, weights='imagenet')"
   ]
  },
  {
   "cell_type": "code",
   "execution_count": null,
   "metadata": {
    "colab": {
     "base_uri": "https://localhost:8080/"
    },
    "id": "ud7OU0t7SQPi",
    "outputId": "394d1055-b98c-4601-fa14-a0b5c9ce19fe"
   },
   "outputs": [
    {
     "name": "stdout",
     "output_type": "stream",
     "text": [
      "Model: \"vgg16\"\n",
      "_________________________________________________________________\n",
      " Layer (type)                Output Shape              Param #   \n",
      "=================================================================\n",
      " input_1 (InputLayer)        [(None, 224, 224, 3)]     0         \n",
      "                                                                 \n",
      " block1_conv1 (Conv2D)       (None, 224, 224, 64)      1792      \n",
      "                                                                 \n",
      " block1_conv2 (Conv2D)       (None, 224, 224, 64)      36928     \n",
      "                                                                 \n",
      " block1_pool (MaxPooling2D)  (None, 112, 112, 64)      0         \n",
      "                                                                 \n",
      " block2_conv1 (Conv2D)       (None, 112, 112, 128)     73856     \n",
      "                                                                 \n",
      " block2_conv2 (Conv2D)       (None, 112, 112, 128)     147584    \n",
      "                                                                 \n",
      " block2_pool (MaxPooling2D)  (None, 56, 56, 128)       0         \n",
      "                                                                 \n",
      " block3_conv1 (Conv2D)       (None, 56, 56, 256)       295168    \n",
      "                                                                 \n",
      " block3_conv2 (Conv2D)       (None, 56, 56, 256)       590080    \n",
      "                                                                 \n",
      " block3_conv3 (Conv2D)       (None, 56, 56, 256)       590080    \n",
      "                                                                 \n",
      " block3_pool (MaxPooling2D)  (None, 28, 28, 256)       0         \n",
      "                                                                 \n",
      " block4_conv1 (Conv2D)       (None, 28, 28, 512)       1180160   \n",
      "                                                                 \n",
      " block4_conv2 (Conv2D)       (None, 28, 28, 512)       2359808   \n",
      "                                                                 \n",
      " block4_conv3 (Conv2D)       (None, 28, 28, 512)       2359808   \n",
      "                                                                 \n",
      " block4_pool (MaxPooling2D)  (None, 14, 14, 512)       0         \n",
      "                                                                 \n",
      " block5_conv1 (Conv2D)       (None, 14, 14, 512)       2359808   \n",
      "                                                                 \n",
      " block5_conv2 (Conv2D)       (None, 14, 14, 512)       2359808   \n",
      "                                                                 \n",
      " block5_conv3 (Conv2D)       (None, 14, 14, 512)       2359808   \n",
      "                                                                 \n",
      " block5_pool (MaxPooling2D)  (None, 7, 7, 512)         0         \n",
      "                                                                 \n",
      " flatten (Flatten)           (None, 25088)             0         \n",
      "                                                                 \n",
      " fc1 (Dense)                 (None, 4096)              102764544 \n",
      "                                                                 \n",
      " fc2 (Dense)                 (None, 4096)              16781312  \n",
      "                                                                 \n",
      " predictions (Dense)         (None, 1000)              4097000   \n",
      "                                                                 \n",
      "=================================================================\n",
      "Total params: 138,357,544\n",
      "Trainable params: 138,357,544\n",
      "Non-trainable params: 0\n",
      "_________________________________________________________________\n"
     ]
    }
   ],
   "source": [
    "image_model.summary()\n"
   ]
  },
  {
   "cell_type": "code",
   "execution_count": null,
   "metadata": {
    "colab": {
     "base_uri": "https://localhost:8080/"
    },
    "id": "4YWFA-2tSdfB",
    "outputId": "378897d9-798d-423c-9cda-c428cbc3ab45"
   },
   "outputs": [
    {
     "name": "stdout",
     "output_type": "stream",
     "text": [
      "The input of the VGG16 net have dimensions: (224, 224)\n",
      "The output of the selecter layer of VGG16 net have dimensions:  4096\n"
     ]
    }
   ],
   "source": [
    "# We will use the output of the layer prior to the final\n",
    "# classification-layer which is named fc2. This is a fully-connected (or dense) layer.\n",
    "transfer_layer = image_model.get_layer('fc2')\n",
    "\n",
    "image_model_transfer = Model(inputs=image_model.input,\n",
    "                             outputs=transfer_layer.output)\n",
    "\n",
    "transfer_values_size = K.int_shape(transfer_layer.output)[1]\n",
    "\n",
    "\n",
    "print(\"The input of the ResNet50 net have dimensions:\",K.int_shape(image_model.input)[1:3])\n",
    "\n",
    "print(\"The output of the selecter layer of ResNet50 net have dimensions: \", transfer_values_size)"
   ]
  },
  {
   "cell_type": "code",
   "execution_count": null,
   "metadata": {
    "id": "-AdxYAtiSlLF"
   },
   "outputs": [],
   "source": [
    "def get_transfer_values(current_dir, file_name):\n",
    "    \n",
    "    # Pre-allocate input-batch-array for images.\n",
    "    shape = (_images_per_file,) + img_size_touple + (3,)\n",
    "    \n",
    "    image_batch = np.zeros(shape=shape, dtype=np.float16)\n",
    "    \n",
    "    image_batch = get_frames(current_dir, file_name)\n",
    "      \n",
    "    # Pre-allocate output-array for transfer-values.\n",
    "    # Note that we use 16-bit floating-points to save memory.\n",
    "    shape = (_images_per_file, transfer_values_size)\n",
    "    transfer_values = np.zeros(shape=shape, dtype=np.float16)\n",
    "\n",
    "    transfer_values = \\\n",
    "            image_model_transfer.predict(image_batch)\n",
    "            \n",
    "    return transfer_values"
   ]
  },
  {
   "cell_type": "code",
   "execution_count": null,
   "metadata": {
    "id": "D2BvaY3eSpSH"
   },
   "outputs": [],
   "source": [
    "def proces_transfer(vid_names, in_dir, labels):\n",
    "    \n",
    "    count = 0\n",
    "    \n",
    "    tam = len(vid_names)\n",
    "    \n",
    "    # Pre-allocate input-batch-array for images.\n",
    "    shape = (_images_per_file,) + img_size_touple + (3,)\n",
    "    \n",
    "    while count<tam:\n",
    "        \n",
    "        video_name = vid_names[count]\n",
    "        \n",
    "        image_batch = np.zeros(shape=shape, dtype=np.float16)\n",
    "    \n",
    "        image_batch = get_frames(in_dir, video_name)\n",
    "        \n",
    "         # Note that we use 16-bit floating-points to save memory.\n",
    "        shape = (_images_per_file, transfer_values_size)\n",
    "        transfer_values = np.zeros(shape=shape, dtype=np.float16)\n",
    "        \n",
    "        transfer_values = \\\n",
    "            image_model_transfer.predict(image_batch)\n",
    "         \n",
    "        labels1 = labels[count]\n",
    "        \n",
    "        aux = np.ones([20,2])\n",
    "        \n",
    "        labelss = labels1*aux\n",
    "        \n",
    "        yield transfer_values, labelss\n",
    "        \n",
    "        count+=1"
   ]
  },
  {
   "cell_type": "code",
   "execution_count": null,
   "metadata": {
    "id": "tvU53ypSSvL0"
   },
   "outputs": [],
   "source": [
    "def make_files(n_files):\n",
    "    \n",
    "    gen = proces_transfer(names_training, in_dir, labels_training)\n",
    "\n",
    "    numer = 1\n",
    "\n",
    "    # Read the first chunk to get the column dtypes\n",
    "    chunk = next(gen)\n",
    "\n",
    "    row_count = chunk[0].shape[0]\n",
    "    row_count2 = chunk[1].shape[0]\n",
    "    \n",
    "    with h5py.File('prueba.h5', 'w') as f:\n",
    "    \n",
    "        # Initialize a resizable dataset to hold the output\n",
    "        maxshape = (None,) + chunk[0].shape[1:]\n",
    "        maxshape2 = (None,) + chunk[1].shape[1:]\n",
    "    \n",
    "    \n",
    "        dset = f.create_dataset('data', shape=chunk[0].shape, maxshape=maxshape,\n",
    "                                chunks=chunk[0].shape, dtype=chunk[0].dtype)\n",
    "    \n",
    "        dset2 = f.create_dataset('labels', shape=chunk[1].shape, maxshape=maxshape2,\n",
    "                                 chunks=chunk[1].shape, dtype=chunk[1].dtype)\n",
    "    \n",
    "         # Write the first chunk of rows\n",
    "        dset[:] = chunk[0]\n",
    "        dset2[:] = chunk[1]\n",
    "\n",
    "        for chunk in gen:\n",
    "            \n",
    "            if numer == n_files:\n",
    "            \n",
    "                break\n",
    "\n",
    "            # Resize the dataset to accommodate the next chunk of rows\n",
    "            dset.resize(row_count + chunk[0].shape[0], axis=0)\n",
    "            dset2.resize(row_count2 + chunk[1].shape[0], axis=0)\n",
    "\n",
    "            # Write the next chunk\n",
    "            dset[row_count:] = chunk[0]\n",
    "            dset2[row_count:] = chunk[1]\n",
    "\n",
    "            # Increment the row count\n",
    "            row_count += chunk[0].shape[0]\n",
    "            row_count2 += chunk[1].shape[0]\n",
    "            \n",
    "            print_progress(numer, n_files)\n",
    "        \n",
    "            numer += 1"
   ]
  },
  {
   "cell_type": "code",
   "execution_count": null,
   "metadata": {
    "id": "8nK8uFExS0nX"
   },
   "outputs": [],
   "source": [
    "def make_files_test(n_files):\n",
    "    \n",
    "    gen = proces_transfer(names_test, in_dir, labels_test)\n",
    "\n",
    "    numer = 1\n",
    "\n",
    "    # Read the first chunk to get the column dtypes\n",
    "    chunk = next(gen)\n",
    "\n",
    "    row_count = chunk[0].shape[0]\n",
    "    row_count2 = chunk[1].shape[0]\n",
    "    \n",
    "    with h5py.File('pruebavalidation.h5', 'w') as f:\n",
    "    \n",
    "        # Initialize a resizable dataset to hold the output\n",
    "        maxshape = (None,) + chunk[0].shape[1:]\n",
    "        maxshape2 = (None,) + chunk[1].shape[1:]\n",
    "    \n",
    "    \n",
    "        dset = f.create_dataset('data', shape=chunk[0].shape, maxshape=maxshape,\n",
    "                                chunks=chunk[0].shape, dtype=chunk[0].dtype)\n",
    "    \n",
    "        dset2 = f.create_dataset('labels', shape=chunk[1].shape, maxshape=maxshape2,\n",
    "                                 chunks=chunk[1].shape, dtype=chunk[1].dtype)\n",
    "    \n",
    "         # Write the first chunk of rows\n",
    "        dset[:] = chunk[0]\n",
    "        dset2[:] = chunk[1]\n",
    "\n",
    "        for chunk in gen:\n",
    "            \n",
    "            if numer == n_files:\n",
    "            \n",
    "                break\n",
    "\n",
    "            # Resize the dataset to accommodate the next chunk of rows\n",
    "            dset.resize(row_count + chunk[0].shape[0], axis=0)\n",
    "            dset2.resize(row_count2 + chunk[1].shape[0], axis=0)\n",
    "\n",
    "            # Write the next chunk\n",
    "            dset[row_count:] = chunk[0]\n",
    "            dset2[row_count:] = chunk[1]\n",
    "\n",
    "            # Increment the row count\n",
    "            row_count += chunk[0].shape[0]\n",
    "            row_count2 += chunk[1].shape[0]\n",
    "            \n",
    "            print_progress(numer, n_files)\n",
    "        \n",
    "            numer += 1"
   ]
  },
  {
   "cell_type": "code",
   "execution_count": null,
   "metadata": {
    "id": "wjne3svdS9Y3"
   },
   "outputs": [],
   "source": [
    "training_set = int(len(names)*0.5)\n",
    "test_set = int(len(names)*0.5)\n",
    "\n",
    "names_training = names[0:training_set]\n",
    "names_test = names[training_set:]\n",
    "\n",
    "labels_training = labels[0:training_set]\n",
    "labels_test = labels[training_set:]"
   ]
  },
  {
   "cell_type": "code",
   "execution_count": null,
   "metadata": {
    "colab": {
     "background_save": true,
     "base_uri": "https://localhost:8080/"
    },
    "id": "pyO9WP-6TER4",
    "outputId": "36bcaa6b-79c9-4a4f-9923-5a8be2c1f559"
   },
   "outputs": [
    {
     "name": "stdout",
     "output_type": "stream",
     "text": [
      "- Progress: 71.6%"
     ]
    }
   ],
   "source": [
    "make_files(training_set)"
   ]
  },
  {
   "cell_type": "code",
   "execution_count": null,
   "metadata": {
    "colab": {
     "base_uri": "https://localhost:8080/"
    },
    "id": "0ThoefXUXPrS",
    "outputId": "64d222d5-a2b3-413a-aa1e-54d6e85be430"
   },
   "outputs": [
    {
     "name": "stdout",
     "output_type": "stream",
     "text": [
      "- Progress: 99.8%"
     ]
    }
   ],
   "source": [
    "make_files_test(test_set)"
   ]
  },
  {
   "cell_type": "code",
   "execution_count": null,
   "metadata": {
    "id": "Ez0blP2z0CsF"
   },
   "outputs": [],
   "source": [
    "def process_alldata_training():\n",
    "    \n",
    "    joint_transfer=[]\n",
    "    frames_num=20\n",
    "    count = 0\n",
    "    \n",
    "    with h5py.File('prueba.h5', 'r') as f:\n",
    "            \n",
    "        X_batch = f['data'][:]\n",
    "        y_batch = f['labels'][:]\n",
    "\n",
    "    for i in range(int(len(X_batch)/frames_num)):\n",
    "        inc = count+frames_num\n",
    "        joint_transfer.append([X_batch[count:inc],y_batch[count]])\n",
    "        count =inc\n",
    "        \n",
    "    data =[]\n",
    "    target=[]\n",
    "    \n",
    "    for i in joint_transfer:\n",
    "        data.append(i[0])\n",
    "        target.append(np.array(i[1]))\n",
    "        \n",
    "    return data, target"
   ]
  },
  {
   "cell_type": "code",
   "execution_count": null,
   "metadata": {
    "id": "Dne2XaQ90MGk"
   },
   "outputs": [],
   "source": [
    "def process_alldata_test():\n",
    "    \n",
    "    joint_transfer=[]\n",
    "    frames_num=20\n",
    "    count = 0\n",
    "    \n",
    "    with h5py.File('pruebavalidation.h5', 'r') as f:\n",
    "            \n",
    "        X_batch = f['data'][:]\n",
    "        y_batch = f['labels'][:]\n",
    "\n",
    "    for i in range(int(len(X_batch)/frames_num)):\n",
    "        inc = count+frames_num\n",
    "        joint_transfer.append([X_batch[count:inc],y_batch[count]])\n",
    "        count =inc\n",
    "        \n",
    "    data =[]\n",
    "    target=[]\n",
    "    \n",
    "    for i in joint_transfer:\n",
    "        data.append(i[0])\n",
    "        target.append(np.array(i[1]))\n",
    "        \n",
    "    return data, target"
   ]
  },
  {
   "cell_type": "code",
   "execution_count": null,
   "metadata": {
    "id": "phyhoYc67VW8"
   },
   "outputs": [],
   "source": [
    "data, target = process_alldata_training()"
   ]
  },
  {
   "cell_type": "code",
   "execution_count": null,
   "metadata": {
    "id": "dJpXHvEg7Xhc"
   },
   "outputs": [],
   "source": [
    "data_test, target_test = process_alldata_test()"
   ]
  },
  {
   "cell_type": "code",
   "execution_count": null,
   "metadata": {
    "id": "XWABZ91b6f7l"
   },
   "outputs": [],
   "source": [
    "chunk_size = 4096\n",
    "n_chunks = 20\n",
    "rnn_size = 512\n",
    "\n",
    "model = Sequential()\n",
    "model.add(LSTM(rnn_size, input_shape=(n_chunks, chunk_size)))\n",
    "model.add(Dense(1024))\n",
    "model.add(Activation('relu'))\n",
    "model.add(Dense(50))\n",
    "model.add(Activation('sigmoid'))\n",
    "model.add(Dense(2))\n",
    "model.add(Activation('softmax'))\n",
    "model.compile(loss='mean_squared_error', optimizer='adam',metrics=['accuracy'])"
   ]
  },
  {
   "cell_type": "code",
   "execution_count": null,
   "metadata": {
    "colab": {
     "base_uri": "https://localhost:8080/"
    },
    "id": "iRZlW4ZV_ygS",
    "outputId": "afdb5588-7c91-4353-f52c-431de2fbd282"
   },
   "outputs": [
    {
     "name": "stdout",
     "output_type": "stream",
     "text": [
      "Epoch 1/200\n",
      "1/1 - 4s - loss: 0.2730 - accuracy: 0.5178 - val_loss: 0.3498 - val_accuracy: 0.5600 - 4s/epoch - 4s/step\n",
      "Epoch 2/200\n",
      "1/1 - 0s - loss: 0.4095 - accuracy: 0.4822 - val_loss: 0.2671 - val_accuracy: 0.5600 - 407ms/epoch - 407ms/step\n",
      "Epoch 3/200\n",
      "1/1 - 0s - loss: 0.2991 - accuracy: 0.4822 - val_loss: 0.2799 - val_accuracy: 0.4400 - 412ms/epoch - 412ms/step\n",
      "Epoch 4/200\n",
      "1/1 - 0s - loss: 0.2598 - accuracy: 0.5178 - val_loss: 0.3054 - val_accuracy: 0.4400 - 402ms/epoch - 402ms/step\n",
      "Epoch 5/200\n",
      "1/1 - 0s - loss: 0.2764 - accuracy: 0.5178 - val_loss: 0.2724 - val_accuracy: 0.4400 - 409ms/epoch - 409ms/step\n",
      "Epoch 6/200\n",
      "1/1 - 0s - loss: 0.2558 - accuracy: 0.5178 - val_loss: 0.2486 - val_accuracy: 0.4400 - 406ms/epoch - 406ms/step\n",
      "Epoch 7/200\n",
      "1/1 - 0s - loss: 0.2481 - accuracy: 0.5356 - val_loss: 0.2448 - val_accuracy: 0.5600 - 406ms/epoch - 406ms/step\n",
      "Epoch 8/200\n",
      "1/1 - 0s - loss: 0.2538 - accuracy: 0.4822 - val_loss: 0.2448 - val_accuracy: 0.5600 - 411ms/epoch - 411ms/step\n",
      "Epoch 9/200\n",
      "1/1 - 0s - loss: 0.2558 - accuracy: 0.4822 - val_loss: 0.2444 - val_accuracy: 0.5600 - 405ms/epoch - 405ms/step\n",
      "Epoch 10/200\n",
      "1/1 - 0s - loss: 0.2521 - accuracy: 0.4822 - val_loss: 0.2465 - val_accuracy: 0.5800 - 408ms/epoch - 408ms/step\n",
      "Epoch 11/200\n",
      "1/1 - 0s - loss: 0.2478 - accuracy: 0.4844 - val_loss: 0.2527 - val_accuracy: 0.4400 - 399ms/epoch - 399ms/step\n",
      "Epoch 12/200\n",
      "1/1 - 0s - loss: 0.2471 - accuracy: 0.5178 - val_loss: 0.2592 - val_accuracy: 0.4400 - 404ms/epoch - 404ms/step\n",
      "Epoch 13/200\n",
      "1/1 - 0s - loss: 0.2488 - accuracy: 0.5178 - val_loss: 0.2608 - val_accuracy: 0.4400 - 438ms/epoch - 438ms/step\n",
      "Epoch 14/200\n",
      "1/1 - 0s - loss: 0.2489 - accuracy: 0.5178 - val_loss: 0.2561 - val_accuracy: 0.4400 - 409ms/epoch - 409ms/step\n",
      "Epoch 15/200\n",
      "1/1 - 0s - loss: 0.2464 - accuracy: 0.5178 - val_loss: 0.2487 - val_accuracy: 0.4400 - 414ms/epoch - 414ms/step\n",
      "Epoch 16/200\n",
      "1/1 - 0s - loss: 0.2434 - accuracy: 0.5178 - val_loss: 0.2423 - val_accuracy: 0.6800 - 410ms/epoch - 410ms/step\n",
      "Epoch 17/200\n",
      "1/1 - 0s - loss: 0.2417 - accuracy: 0.7156 - val_loss: 0.2382 - val_accuracy: 0.8400 - 435ms/epoch - 435ms/step\n",
      "Epoch 18/200\n",
      "1/1 - 0s - loss: 0.2408 - accuracy: 0.7844 - val_loss: 0.2353 - val_accuracy: 0.8000 - 410ms/epoch - 410ms/step\n",
      "Epoch 19/200\n",
      "1/1 - 0s - loss: 0.2389 - accuracy: 0.7311 - val_loss: 0.2333 - val_accuracy: 0.9600 - 406ms/epoch - 406ms/step\n",
      "Epoch 20/200\n",
      "1/1 - 0s - loss: 0.2352 - accuracy: 0.8756 - val_loss: 0.2323 - val_accuracy: 0.7600 - 404ms/epoch - 404ms/step\n",
      "Epoch 21/200\n",
      "1/1 - 0s - loss: 0.2313 - accuracy: 0.7644 - val_loss: 0.2302 - val_accuracy: 0.5600 - 432ms/epoch - 432ms/step\n",
      "Epoch 22/200\n",
      "1/1 - 0s - loss: 0.2275 - accuracy: 0.6311 - val_loss: 0.2247 - val_accuracy: 0.6600 - 414ms/epoch - 414ms/step\n",
      "Epoch 23/200\n",
      "1/1 - 0s - loss: 0.2224 - accuracy: 0.6956 - val_loss: 0.2165 - val_accuracy: 0.8200 - 406ms/epoch - 406ms/step\n",
      "Epoch 24/200\n",
      "1/1 - 0s - loss: 0.2160 - accuracy: 0.8267 - val_loss: 0.2054 - val_accuracy: 0.9200 - 407ms/epoch - 407ms/step\n",
      "Epoch 25/200\n",
      "1/1 - 0s - loss: 0.2075 - accuracy: 0.8844 - val_loss: 0.1957 - val_accuracy: 0.9200 - 408ms/epoch - 408ms/step\n",
      "Epoch 26/200\n",
      "1/1 - 0s - loss: 0.1983 - accuracy: 0.8822 - val_loss: 0.1844 - val_accuracy: 0.9200 - 407ms/epoch - 407ms/step\n",
      "Epoch 27/200\n",
      "1/1 - 0s - loss: 0.1870 - accuracy: 0.8711 - val_loss: 0.1688 - val_accuracy: 0.9200 - 406ms/epoch - 406ms/step\n",
      "Epoch 28/200\n",
      "1/1 - 0s - loss: 0.1749 - accuracy: 0.8911 - val_loss: 0.1514 - val_accuracy: 0.9200 - 405ms/epoch - 405ms/step\n",
      "Epoch 29/200\n",
      "1/1 - 0s - loss: 0.1612 - accuracy: 0.9000 - val_loss: 0.1373 - val_accuracy: 0.9200 - 418ms/epoch - 418ms/step\n",
      "Epoch 30/200\n",
      "1/1 - 0s - loss: 0.1472 - accuracy: 0.8933 - val_loss: 0.1181 - val_accuracy: 0.9400 - 412ms/epoch - 412ms/step\n",
      "Epoch 31/200\n",
      "1/1 - 0s - loss: 0.1338 - accuracy: 0.8956 - val_loss: 0.1059 - val_accuracy: 0.9200 - 420ms/epoch - 420ms/step\n",
      "Epoch 32/200\n",
      "1/1 - 0s - loss: 0.1219 - accuracy: 0.9000 - val_loss: 0.0901 - val_accuracy: 0.9400 - 402ms/epoch - 402ms/step\n",
      "Epoch 33/200\n",
      "1/1 - 0s - loss: 0.1120 - accuracy: 0.8889 - val_loss: 0.0839 - val_accuracy: 0.9200 - 409ms/epoch - 409ms/step\n",
      "Epoch 34/200\n",
      "1/1 - 0s - loss: 0.1042 - accuracy: 0.9000 - val_loss: 0.0700 - val_accuracy: 0.9400 - 410ms/epoch - 410ms/step\n",
      "Epoch 35/200\n",
      "1/1 - 0s - loss: 0.0993 - accuracy: 0.8889 - val_loss: 0.0709 - val_accuracy: 0.9200 - 412ms/epoch - 412ms/step\n",
      "Epoch 36/200\n",
      "1/1 - 0s - loss: 0.0942 - accuracy: 0.8956 - val_loss: 0.0583 - val_accuracy: 0.9400 - 408ms/epoch - 408ms/step\n",
      "Epoch 37/200\n",
      "1/1 - 0s - loss: 0.0892 - accuracy: 0.8889 - val_loss: 0.0554 - val_accuracy: 0.9400 - 404ms/epoch - 404ms/step\n",
      "Epoch 38/200\n",
      "1/1 - 0s - loss: 0.0862 - accuracy: 0.8978 - val_loss: 0.0592 - val_accuracy: 0.9400 - 405ms/epoch - 405ms/step\n",
      "Epoch 39/200\n",
      "1/1 - 0s - loss: 0.0860 - accuracy: 0.8933 - val_loss: 0.0495 - val_accuracy: 0.9400 - 423ms/epoch - 423ms/step\n",
      "Epoch 40/200\n",
      "1/1 - 0s - loss: 0.0852 - accuracy: 0.8889 - val_loss: 0.0506 - val_accuracy: 0.9200 - 437ms/epoch - 437ms/step\n",
      "Epoch 41/200\n",
      "1/1 - 0s - loss: 0.0816 - accuracy: 0.9067 - val_loss: 0.0552 - val_accuracy: 0.9400 - 405ms/epoch - 405ms/step\n",
      "Epoch 42/200\n",
      "1/1 - 0s - loss: 0.0828 - accuracy: 0.9000 - val_loss: 0.0456 - val_accuracy: 0.9400 - 405ms/epoch - 405ms/step\n",
      "Epoch 43/200\n",
      "1/1 - 0s - loss: 0.0835 - accuracy: 0.8911 - val_loss: 0.0460 - val_accuracy: 0.9400 - 422ms/epoch - 422ms/step\n",
      "Epoch 44/200\n",
      "1/1 - 0s - loss: 0.0790 - accuracy: 0.9067 - val_loss: 0.0583 - val_accuracy: 0.9400 - 411ms/epoch - 411ms/step\n",
      "Epoch 45/200\n",
      "1/1 - 0s - loss: 0.0838 - accuracy: 0.8978 - val_loss: 0.0435 - val_accuracy: 0.9400 - 405ms/epoch - 405ms/step\n",
      "Epoch 46/200\n",
      "1/1 - 0s - loss: 0.0823 - accuracy: 0.8911 - val_loss: 0.0426 - val_accuracy: 0.9400 - 407ms/epoch - 407ms/step\n",
      "Epoch 47/200\n",
      "1/1 - 0s - loss: 0.0796 - accuracy: 0.8978 - val_loss: 0.0579 - val_accuracy: 0.9400 - 407ms/epoch - 407ms/step\n",
      "Epoch 48/200\n",
      "1/1 - 0s - loss: 0.0821 - accuracy: 0.9000 - val_loss: 0.0431 - val_accuracy: 0.9600 - 409ms/epoch - 409ms/step\n",
      "Epoch 49/200\n",
      "1/1 - 0s - loss: 0.0752 - accuracy: 0.9111 - val_loss: 0.0414 - val_accuracy: 0.9400 - 404ms/epoch - 404ms/step\n",
      "Epoch 50/200\n",
      "1/1 - 0s - loss: 0.0782 - accuracy: 0.8956 - val_loss: 0.0435 - val_accuracy: 0.9600 - 409ms/epoch - 409ms/step\n",
      "Epoch 51/200\n",
      "1/1 - 0s - loss: 0.0738 - accuracy: 0.9133 - val_loss: 0.0530 - val_accuracy: 0.9400 - 408ms/epoch - 408ms/step\n",
      "Epoch 52/200\n",
      "1/1 - 0s - loss: 0.0769 - accuracy: 0.9133 - val_loss: 0.0407 - val_accuracy: 0.9600 - 409ms/epoch - 409ms/step\n",
      "Epoch 53/200\n",
      "1/1 - 0s - loss: 0.0737 - accuracy: 0.9111 - val_loss: 0.0402 - val_accuracy: 0.9600 - 408ms/epoch - 408ms/step\n",
      "Epoch 54/200\n",
      "1/1 - 0s - loss: 0.0743 - accuracy: 0.9044 - val_loss: 0.0466 - val_accuracy: 0.9600 - 403ms/epoch - 403ms/step\n",
      "Epoch 55/200\n",
      "1/1 - 0s - loss: 0.0723 - accuracy: 0.9178 - val_loss: 0.0472 - val_accuracy: 0.9600 - 416ms/epoch - 416ms/step\n",
      "Epoch 56/200\n",
      "1/1 - 0s - loss: 0.0720 - accuracy: 0.9222 - val_loss: 0.0395 - val_accuracy: 0.9600 - 406ms/epoch - 406ms/step\n",
      "Epoch 57/200\n",
      "1/1 - 0s - loss: 0.0717 - accuracy: 0.9156 - val_loss: 0.0397 - val_accuracy: 0.9600 - 405ms/epoch - 405ms/step\n",
      "Epoch 58/200\n",
      "1/1 - 0s - loss: 0.0703 - accuracy: 0.9156 - val_loss: 0.0479 - val_accuracy: 0.9600 - 411ms/epoch - 411ms/step\n",
      "Epoch 59/200\n",
      "1/1 - 0s - loss: 0.0707 - accuracy: 0.9200 - val_loss: 0.0418 - val_accuracy: 0.9600 - 414ms/epoch - 414ms/step\n",
      "Epoch 60/200\n",
      "1/1 - 0s - loss: 0.0683 - accuracy: 0.9244 - val_loss: 0.0383 - val_accuracy: 0.9600 - 422ms/epoch - 422ms/step\n",
      "Epoch 61/200\n",
      "1/1 - 0s - loss: 0.0692 - accuracy: 0.9133 - val_loss: 0.0406 - val_accuracy: 0.9600 - 430ms/epoch - 430ms/step\n",
      "Epoch 62/200\n",
      "1/1 - 0s - loss: 0.0671 - accuracy: 0.9244 - val_loss: 0.0459 - val_accuracy: 0.9600 - 426ms/epoch - 426ms/step\n",
      "Epoch 63/200\n",
      "1/1 - 0s - loss: 0.0678 - accuracy: 0.9222 - val_loss: 0.0389 - val_accuracy: 0.9600 - 403ms/epoch - 403ms/step\n",
      "Epoch 64/200\n",
      "1/1 - 0s - loss: 0.0661 - accuracy: 0.9222 - val_loss: 0.0381 - val_accuracy: 0.9600 - 410ms/epoch - 410ms/step\n",
      "Epoch 65/200\n",
      "1/1 - 0s - loss: 0.0660 - accuracy: 0.9200 - val_loss: 0.0435 - val_accuracy: 0.9600 - 415ms/epoch - 415ms/step\n",
      "Epoch 66/200\n",
      "1/1 - 0s - loss: 0.0652 - accuracy: 0.9267 - val_loss: 0.0420 - val_accuracy: 0.9600 - 416ms/epoch - 416ms/step\n",
      "Epoch 67/200\n",
      "1/1 - 0s - loss: 0.0642 - accuracy: 0.9289 - val_loss: 0.0378 - val_accuracy: 0.9600 - 410ms/epoch - 410ms/step\n",
      "Epoch 68/200\n",
      "1/1 - 0s - loss: 0.0642 - accuracy: 0.9200 - val_loss: 0.0407 - val_accuracy: 0.9600 - 410ms/epoch - 410ms/step\n",
      "Epoch 69/200\n",
      "1/1 - 0s - loss: 0.0627 - accuracy: 0.9289 - val_loss: 0.0441 - val_accuracy: 0.9600 - 431ms/epoch - 431ms/step\n",
      "Epoch 70/200\n",
      "1/1 - 0s - loss: 0.0627 - accuracy: 0.9267 - val_loss: 0.0385 - val_accuracy: 0.9600 - 411ms/epoch - 411ms/step\n",
      "Epoch 71/200\n",
      "1/1 - 0s - loss: 0.0618 - accuracy: 0.9333 - val_loss: 0.0402 - val_accuracy: 0.9600 - 413ms/epoch - 413ms/step\n",
      "Epoch 72/200\n",
      "1/1 - 0s - loss: 0.0607 - accuracy: 0.9311 - val_loss: 0.0449 - val_accuracy: 0.9600 - 408ms/epoch - 408ms/step\n",
      "Epoch 73/200\n",
      "1/1 - 0s - loss: 0.0606 - accuracy: 0.9289 - val_loss: 0.0388 - val_accuracy: 0.9600 - 418ms/epoch - 418ms/step\n",
      "Epoch 74/200\n",
      "1/1 - 0s - loss: 0.0598 - accuracy: 0.9356 - val_loss: 0.0420 - val_accuracy: 0.9600 - 409ms/epoch - 409ms/step\n",
      "Epoch 75/200\n",
      "1/1 - 0s - loss: 0.0586 - accuracy: 0.9311 - val_loss: 0.0442 - val_accuracy: 0.9600 - 409ms/epoch - 409ms/step\n",
      "Epoch 76/200\n",
      "1/1 - 0s - loss: 0.0582 - accuracy: 0.9311 - val_loss: 0.0388 - val_accuracy: 0.9600 - 427ms/epoch - 427ms/step\n",
      "Epoch 77/200\n",
      "1/1 - 0s - loss: 0.0580 - accuracy: 0.9400 - val_loss: 0.0472 - val_accuracy: 0.9600 - 401ms/epoch - 401ms/step\n",
      "Epoch 78/200\n",
      "1/1 - 0s - loss: 0.0573 - accuracy: 0.9289 - val_loss: 0.0395 - val_accuracy: 0.9600 - 407ms/epoch - 407ms/step\n",
      "Epoch 79/200\n",
      "1/1 - 0s - loss: 0.0563 - accuracy: 0.9400 - val_loss: 0.0449 - val_accuracy: 0.9600 - 408ms/epoch - 408ms/step\n",
      "Epoch 80/200\n",
      "1/1 - 0s - loss: 0.0553 - accuracy: 0.9333 - val_loss: 0.0423 - val_accuracy: 0.9600 - 406ms/epoch - 406ms/step\n",
      "Epoch 81/200\n",
      "1/1 - 0s - loss: 0.0545 - accuracy: 0.9400 - val_loss: 0.0428 - val_accuracy: 0.9600 - 410ms/epoch - 410ms/step\n",
      "Epoch 82/200\n",
      "1/1 - 0s - loss: 0.0538 - accuracy: 0.9400 - val_loss: 0.0459 - val_accuracy: 0.9600 - 408ms/epoch - 408ms/step\n",
      "Epoch 83/200\n",
      "1/1 - 0s - loss: 0.0533 - accuracy: 0.9422 - val_loss: 0.0403 - val_accuracy: 0.9600 - 392ms/epoch - 392ms/step\n",
      "Epoch 84/200\n",
      "1/1 - 0s - loss: 0.0532 - accuracy: 0.9422 - val_loss: 0.0583 - val_accuracy: 0.9400 - 402ms/epoch - 402ms/step\n",
      "Epoch 85/200\n",
      "1/1 - 0s - loss: 0.0551 - accuracy: 0.9311 - val_loss: 0.0350 - val_accuracy: 0.9600 - 424ms/epoch - 424ms/step\n",
      "Epoch 86/200\n",
      "1/1 - 0s - loss: 0.0665 - accuracy: 0.9200 - val_loss: 0.1098 - val_accuracy: 0.8200 - 411ms/epoch - 411ms/step\n",
      "Epoch 87/200\n",
      "1/1 - 0s - loss: 0.0803 - accuracy: 0.8933 - val_loss: 0.0352 - val_accuracy: 0.9600 - 412ms/epoch - 412ms/step\n",
      "Epoch 88/200\n",
      "1/1 - 0s - loss: 0.0733 - accuracy: 0.9044 - val_loss: 0.0361 - val_accuracy: 0.9600 - 427ms/epoch - 427ms/step\n",
      "Epoch 89/200\n",
      "1/1 - 0s - loss: 0.0551 - accuracy: 0.9333 - val_loss: 0.1064 - val_accuracy: 0.8200 - 409ms/epoch - 409ms/step\n",
      "Epoch 90/200\n",
      "1/1 - 0s - loss: 0.0798 - accuracy: 0.8956 - val_loss: 0.0371 - val_accuracy: 0.9600 - 411ms/epoch - 411ms/step\n",
      "Epoch 91/200\n",
      "1/1 - 0s - loss: 0.0535 - accuracy: 0.9400 - val_loss: 0.0344 - val_accuracy: 0.9600 - 417ms/epoch - 417ms/step\n",
      "Epoch 92/200\n",
      "1/1 - 0s - loss: 0.0700 - accuracy: 0.9133 - val_loss: 0.0447 - val_accuracy: 0.9600 - 413ms/epoch - 413ms/step\n",
      "Epoch 93/200\n",
      "1/1 - 0s - loss: 0.0515 - accuracy: 0.9400 - val_loss: 0.0836 - val_accuracy: 0.9000 - 412ms/epoch - 412ms/step\n",
      "Epoch 94/200\n",
      "1/1 - 0s - loss: 0.0681 - accuracy: 0.9222 - val_loss: 0.0371 - val_accuracy: 0.9600 - 420ms/epoch - 420ms/step\n",
      "Epoch 95/200\n",
      "1/1 - 0s - loss: 0.0524 - accuracy: 0.9400 - val_loss: 0.0333 - val_accuracy: 0.9600 - 412ms/epoch - 412ms/step\n",
      "Epoch 96/200\n",
      "1/1 - 0s - loss: 0.0650 - accuracy: 0.9200 - val_loss: 0.0414 - val_accuracy: 0.9600 - 405ms/epoch - 405ms/step\n",
      "Epoch 97/200\n",
      "1/1 - 0s - loss: 0.0503 - accuracy: 0.9444 - val_loss: 0.0749 - val_accuracy: 0.9000 - 426ms/epoch - 426ms/step\n",
      "Epoch 98/200\n",
      "1/1 - 0s - loss: 0.0626 - accuracy: 0.9289 - val_loss: 0.0410 - val_accuracy: 0.9600 - 417ms/epoch - 417ms/step\n",
      "Epoch 99/200\n",
      "1/1 - 0s - loss: 0.0496 - accuracy: 0.9467 - val_loss: 0.0334 - val_accuracy: 0.9600 - 416ms/epoch - 416ms/step\n",
      "Epoch 100/200\n",
      "1/1 - 0s - loss: 0.0596 - accuracy: 0.9244 - val_loss: 0.0385 - val_accuracy: 0.9600 - 407ms/epoch - 407ms/step\n",
      "Epoch 101/200\n",
      "1/1 - 0s - loss: 0.0495 - accuracy: 0.9467 - val_loss: 0.0666 - val_accuracy: 0.9200 - 416ms/epoch - 416ms/step\n",
      "Epoch 102/200\n",
      "1/1 - 0s - loss: 0.0566 - accuracy: 0.9333 - val_loss: 0.0468 - val_accuracy: 0.9400 - 408ms/epoch - 408ms/step\n",
      "Epoch 103/200\n",
      "1/1 - 0s - loss: 0.0488 - accuracy: 0.9422 - val_loss: 0.0344 - val_accuracy: 0.9600 - 420ms/epoch - 420ms/step\n",
      "Epoch 104/200\n",
      "1/1 - 0s - loss: 0.0539 - accuracy: 0.9311 - val_loss: 0.0379 - val_accuracy: 0.9600 - 449ms/epoch - 449ms/step\n",
      "Epoch 105/200\n",
      "1/1 - 0s - loss: 0.0488 - accuracy: 0.9511 - val_loss: 0.0608 - val_accuracy: 0.9200 - 409ms/epoch - 409ms/step\n",
      "Epoch 106/200\n",
      "1/1 - 0s - loss: 0.0519 - accuracy: 0.9400 - val_loss: 0.0493 - val_accuracy: 0.9400 - 426ms/epoch - 426ms/step\n",
      "Epoch 107/200\n",
      "1/1 - 0s - loss: 0.0478 - accuracy: 0.9467 - val_loss: 0.0358 - val_accuracy: 0.9600 - 417ms/epoch - 417ms/step\n",
      "Epoch 108/200\n",
      "1/1 - 0s - loss: 0.0505 - accuracy: 0.9467 - val_loss: 0.0396 - val_accuracy: 0.9600 - 408ms/epoch - 408ms/step\n",
      "Epoch 109/200\n",
      "1/1 - 0s - loss: 0.0473 - accuracy: 0.9511 - val_loss: 0.0587 - val_accuracy: 0.9200 - 415ms/epoch - 415ms/step\n",
      "Epoch 110/200\n",
      "1/1 - 0s - loss: 0.0496 - accuracy: 0.9422 - val_loss: 0.0474 - val_accuracy: 0.9400 - 444ms/epoch - 444ms/step\n",
      "Epoch 111/200\n",
      "1/1 - 0s - loss: 0.0463 - accuracy: 0.9511 - val_loss: 0.0371 - val_accuracy: 0.9600 - 438ms/epoch - 438ms/step\n",
      "Epoch 112/200\n",
      "1/1 - 0s - loss: 0.0486 - accuracy: 0.9489 - val_loss: 0.0426 - val_accuracy: 0.9600 - 411ms/epoch - 411ms/step\n",
      "Epoch 113/200\n",
      "1/1 - 0s - loss: 0.0458 - accuracy: 0.9511 - val_loss: 0.0572 - val_accuracy: 0.9200 - 416ms/epoch - 416ms/step\n",
      "Epoch 114/200\n",
      "1/1 - 0s - loss: 0.0479 - accuracy: 0.9444 - val_loss: 0.0439 - val_accuracy: 0.9600 - 409ms/epoch - 409ms/step\n",
      "Epoch 115/200\n",
      "1/1 - 0s - loss: 0.0451 - accuracy: 0.9533 - val_loss: 0.0382 - val_accuracy: 0.9600 - 420ms/epoch - 420ms/step\n",
      "Epoch 116/200\n",
      "1/1 - 0s - loss: 0.0468 - accuracy: 0.9489 - val_loss: 0.0474 - val_accuracy: 0.9400 - 452ms/epoch - 452ms/step\n",
      "Epoch 117/200\n",
      "1/1 - 0s - loss: 0.0447 - accuracy: 0.9533 - val_loss: 0.0538 - val_accuracy: 0.9200 - 407ms/epoch - 407ms/step\n",
      "Epoch 118/200\n",
      "1/1 - 0s - loss: 0.0458 - accuracy: 0.9511 - val_loss: 0.0405 - val_accuracy: 0.9600 - 416ms/epoch - 416ms/step\n",
      "Epoch 119/200\n",
      "1/1 - 0s - loss: 0.0448 - accuracy: 0.9533 - val_loss: 0.0404 - val_accuracy: 0.9600 - 425ms/epoch - 425ms/step\n",
      "Epoch 120/200\n",
      "1/1 - 0s - loss: 0.0445 - accuracy: 0.9533 - val_loss: 0.0519 - val_accuracy: 0.9400 - 415ms/epoch - 415ms/step\n",
      "Epoch 121/200\n",
      "1/1 - 0s - loss: 0.0447 - accuracy: 0.9511 - val_loss: 0.0461 - val_accuracy: 0.9400 - 422ms/epoch - 422ms/step\n",
      "Epoch 122/200\n",
      "1/1 - 0s - loss: 0.0434 - accuracy: 0.9556 - val_loss: 0.0395 - val_accuracy: 0.9600 - 411ms/epoch - 411ms/step\n",
      "Epoch 123/200\n",
      "1/1 - 0s - loss: 0.0441 - accuracy: 0.9511 - val_loss: 0.0450 - val_accuracy: 0.9600 - 427ms/epoch - 427ms/step\n",
      "Epoch 124/200\n",
      "1/1 - 0s - loss: 0.0429 - accuracy: 0.9556 - val_loss: 0.0502 - val_accuracy: 0.9400 - 408ms/epoch - 408ms/step\n",
      "Epoch 125/200\n",
      "1/1 - 0s - loss: 0.0434 - accuracy: 0.9556 - val_loss: 0.0410 - val_accuracy: 0.9600 - 406ms/epoch - 406ms/step\n",
      "Epoch 126/200\n",
      "1/1 - 0s - loss: 0.0428 - accuracy: 0.9578 - val_loss: 0.0415 - val_accuracy: 0.9600 - 414ms/epoch - 414ms/step\n",
      "Epoch 127/200\n",
      "1/1 - 0s - loss: 0.0424 - accuracy: 0.9578 - val_loss: 0.0501 - val_accuracy: 0.9400 - 427ms/epoch - 427ms/step\n",
      "Epoch 128/200\n",
      "1/1 - 0s - loss: 0.0426 - accuracy: 0.9578 - val_loss: 0.0430 - val_accuracy: 0.9600 - 430ms/epoch - 430ms/step\n",
      "Epoch 129/200\n",
      "1/1 - 0s - loss: 0.0417 - accuracy: 0.9578 - val_loss: 0.0410 - val_accuracy: 0.9600 - 411ms/epoch - 411ms/step\n",
      "Epoch 130/200\n",
      "1/1 - 0s - loss: 0.0418 - accuracy: 0.9578 - val_loss: 0.0483 - val_accuracy: 0.9400 - 420ms/epoch - 420ms/step\n",
      "Epoch 131/200\n",
      "1/1 - 0s - loss: 0.0416 - accuracy: 0.9600 - val_loss: 0.0449 - val_accuracy: 0.9600 - 422ms/epoch - 422ms/step\n",
      "Epoch 132/200\n",
      "1/1 - 0s - loss: 0.0410 - accuracy: 0.9600 - val_loss: 0.0410 - val_accuracy: 0.9600 - 408ms/epoch - 408ms/step\n",
      "Epoch 133/200\n",
      "1/1 - 0s - loss: 0.0411 - accuracy: 0.9600 - val_loss: 0.0475 - val_accuracy: 0.9400 - 447ms/epoch - 447ms/step\n",
      "Epoch 134/200\n",
      "1/1 - 0s - loss: 0.0407 - accuracy: 0.9600 - val_loss: 0.0431 - val_accuracy: 0.9600 - 442ms/epoch - 442ms/step\n",
      "Epoch 135/200\n",
      "1/1 - 0s - loss: 0.0403 - accuracy: 0.9600 - val_loss: 0.0433 - val_accuracy: 0.9600 - 403ms/epoch - 403ms/step\n",
      "Epoch 136/200\n",
      "1/1 - 0s - loss: 0.0401 - accuracy: 0.9600 - val_loss: 0.0470 - val_accuracy: 0.9400 - 426ms/epoch - 426ms/step\n",
      "Epoch 137/200\n",
      "1/1 - 0s - loss: 0.0402 - accuracy: 0.9600 - val_loss: 0.0397 - val_accuracy: 0.9600 - 435ms/epoch - 435ms/step\n",
      "Epoch 138/200\n",
      "1/1 - 0s - loss: 0.0404 - accuracy: 0.9600 - val_loss: 0.0485 - val_accuracy: 0.9400 - 409ms/epoch - 409ms/step\n",
      "Epoch 139/200\n",
      "1/1 - 0s - loss: 0.0400 - accuracy: 0.9600 - val_loss: 0.0420 - val_accuracy: 0.9600 - 411ms/epoch - 411ms/step\n",
      "Epoch 140/200\n",
      "1/1 - 0s - loss: 0.0393 - accuracy: 0.9600 - val_loss: 0.0417 - val_accuracy: 0.9600 - 419ms/epoch - 419ms/step\n",
      "Epoch 141/200\n",
      "1/1 - 0s - loss: 0.0392 - accuracy: 0.9600 - val_loss: 0.0478 - val_accuracy: 0.9400 - 411ms/epoch - 411ms/step\n",
      "Epoch 142/200\n",
      "1/1 - 0s - loss: 0.0393 - accuracy: 0.9600 - val_loss: 0.0400 - val_accuracy: 0.9600 - 415ms/epoch - 415ms/step\n",
      "Epoch 143/200\n",
      "1/1 - 0s - loss: 0.0391 - accuracy: 0.9600 - val_loss: 0.0439 - val_accuracy: 0.9600 - 409ms/epoch - 409ms/step\n",
      "Epoch 144/200\n",
      "1/1 - 0s - loss: 0.0385 - accuracy: 0.9600 - val_loss: 0.0457 - val_accuracy: 0.9600 - 433ms/epoch - 433ms/step\n",
      "Epoch 145/200\n",
      "1/1 - 0s - loss: 0.0384 - accuracy: 0.9600 - val_loss: 0.0395 - val_accuracy: 0.9600 - 411ms/epoch - 411ms/step\n",
      "Epoch 146/200\n",
      "1/1 - 0s - loss: 0.0385 - accuracy: 0.9600 - val_loss: 0.0456 - val_accuracy: 0.9600 - 416ms/epoch - 416ms/step\n",
      "Epoch 147/200\n",
      "1/1 - 0s - loss: 0.0381 - accuracy: 0.9600 - val_loss: 0.0424 - val_accuracy: 0.9600 - 407ms/epoch - 407ms/step\n",
      "Epoch 148/200\n",
      "1/1 - 0s - loss: 0.0376 - accuracy: 0.9600 - val_loss: 0.0402 - val_accuracy: 0.9600 - 450ms/epoch - 450ms/step\n",
      "Epoch 149/200\n",
      "1/1 - 0s - loss: 0.0376 - accuracy: 0.9600 - val_loss: 0.0471 - val_accuracy: 0.9400 - 419ms/epoch - 419ms/step\n",
      "Epoch 150/200\n",
      "1/1 - 0s - loss: 0.0376 - accuracy: 0.9622 - val_loss: 0.0398 - val_accuracy: 0.9600 - 418ms/epoch - 418ms/step\n",
      "Epoch 151/200\n",
      "1/1 - 0s - loss: 0.0371 - accuracy: 0.9600 - val_loss: 0.0439 - val_accuracy: 0.9600 - 433ms/epoch - 433ms/step\n",
      "Epoch 152/200\n",
      "1/1 - 0s - loss: 0.0366 - accuracy: 0.9622 - val_loss: 0.0428 - val_accuracy: 0.9600 - 415ms/epoch - 415ms/step\n",
      "Epoch 153/200\n",
      "1/1 - 0s - loss: 0.0362 - accuracy: 0.9622 - val_loss: 0.0402 - val_accuracy: 0.9600 - 416ms/epoch - 416ms/step\n",
      "Epoch 154/200\n",
      "1/1 - 0s - loss: 0.0362 - accuracy: 0.9600 - val_loss: 0.0468 - val_accuracy: 0.9400 - 438ms/epoch - 438ms/step\n",
      "Epoch 155/200\n",
      "1/1 - 0s - loss: 0.0363 - accuracy: 0.9622 - val_loss: 0.0388 - val_accuracy: 0.9600 - 412ms/epoch - 412ms/step\n",
      "Epoch 156/200\n",
      "1/1 - 0s - loss: 0.0360 - accuracy: 0.9644 - val_loss: 0.0479 - val_accuracy: 0.9400 - 411ms/epoch - 411ms/step\n",
      "Epoch 157/200\n",
      "1/1 - 0s - loss: 0.0360 - accuracy: 0.9622 - val_loss: 0.0392 - val_accuracy: 0.9600 - 418ms/epoch - 418ms/step\n",
      "Epoch 158/200\n",
      "1/1 - 0s - loss: 0.0353 - accuracy: 0.9644 - val_loss: 0.0445 - val_accuracy: 0.9400 - 413ms/epoch - 413ms/step\n",
      "Epoch 159/200\n",
      "1/1 - 0s - loss: 0.0348 - accuracy: 0.9622 - val_loss: 0.0412 - val_accuracy: 0.9600 - 440ms/epoch - 440ms/step\n",
      "Epoch 160/200\n",
      "1/1 - 0s - loss: 0.0343 - accuracy: 0.9644 - val_loss: 0.0413 - val_accuracy: 0.9600 - 411ms/epoch - 411ms/step\n",
      "Epoch 161/200\n",
      "1/1 - 0s - loss: 0.0340 - accuracy: 0.9667 - val_loss: 0.0445 - val_accuracy: 0.9400 - 419ms/epoch - 419ms/step\n",
      "Epoch 162/200\n",
      "1/1 - 0s - loss: 0.0339 - accuracy: 0.9644 - val_loss: 0.0397 - val_accuracy: 0.9600 - 412ms/epoch - 412ms/step\n",
      "Epoch 163/200\n",
      "1/1 - 0s - loss: 0.0338 - accuracy: 0.9667 - val_loss: 0.0480 - val_accuracy: 0.9400 - 414ms/epoch - 414ms/step\n",
      "Epoch 164/200\n",
      "1/1 - 0s - loss: 0.0340 - accuracy: 0.9644 - val_loss: 0.0385 - val_accuracy: 0.9600 - 421ms/epoch - 421ms/step\n",
      "Epoch 165/200\n",
      "1/1 - 0s - loss: 0.0340 - accuracy: 0.9667 - val_loss: 0.0519 - val_accuracy: 0.9400 - 407ms/epoch - 407ms/step\n",
      "Epoch 166/200\n",
      "1/1 - 0s - loss: 0.0348 - accuracy: 0.9644 - val_loss: 0.0370 - val_accuracy: 0.9600 - 409ms/epoch - 409ms/step\n",
      "Epoch 167/200\n",
      "1/1 - 0s - loss: 0.0347 - accuracy: 0.9667 - val_loss: 0.0573 - val_accuracy: 0.9200 - 420ms/epoch - 420ms/step\n",
      "Epoch 168/200\n",
      "1/1 - 0s - loss: 0.0371 - accuracy: 0.9622 - val_loss: 0.0351 - val_accuracy: 0.9600 - 411ms/epoch - 411ms/step\n",
      "Epoch 169/200\n",
      "1/1 - 0s - loss: 0.0374 - accuracy: 0.9556 - val_loss: 0.0679 - val_accuracy: 0.9000 - 407ms/epoch - 407ms/step\n",
      "Epoch 170/200\n",
      "1/1 - 0s - loss: 0.0442 - accuracy: 0.9467 - val_loss: 0.0331 - val_accuracy: 0.9600 - 418ms/epoch - 418ms/step\n",
      "Epoch 171/200\n",
      "1/1 - 0s - loss: 0.0472 - accuracy: 0.9400 - val_loss: 0.0805 - val_accuracy: 0.9000 - 410ms/epoch - 410ms/step\n",
      "Epoch 172/200\n",
      "1/1 - 0s - loss: 0.0556 - accuracy: 0.9289 - val_loss: 0.0347 - val_accuracy: 0.9600 - 424ms/epoch - 424ms/step\n",
      "Epoch 173/200\n",
      "1/1 - 0s - loss: 0.0380 - accuracy: 0.9600 - val_loss: 0.0351 - val_accuracy: 0.9600 - 416ms/epoch - 416ms/step\n",
      "Epoch 174/200\n",
      "1/1 - 0s - loss: 0.0367 - accuracy: 0.9622 - val_loss: 0.0619 - val_accuracy: 0.9000 - 411ms/epoch - 411ms/step\n",
      "Epoch 175/200\n",
      "1/1 - 0s - loss: 0.0449 - accuracy: 0.9444 - val_loss: 0.0372 - val_accuracy: 0.9600 - 445ms/epoch - 445ms/step\n",
      "Epoch 176/200\n",
      "1/1 - 0s - loss: 0.0325 - accuracy: 0.9689 - val_loss: 0.0315 - val_accuracy: 0.9600 - 420ms/epoch - 420ms/step\n",
      "Epoch 177/200\n",
      "1/1 - 0s - loss: 0.0453 - accuracy: 0.9400 - val_loss: 0.0960 - val_accuracy: 0.8800 - 413ms/epoch - 413ms/step\n",
      "Epoch 178/200\n",
      "1/1 - 0s - loss: 0.0687 - accuracy: 0.9111 - val_loss: 0.0354 - val_accuracy: 0.9600 - 429ms/epoch - 429ms/step\n",
      "Epoch 179/200\n",
      "1/1 - 0s - loss: 0.0327 - accuracy: 0.9689 - val_loss: 0.0402 - val_accuracy: 0.9400 - 412ms/epoch - 412ms/step\n",
      "Epoch 180/200\n",
      "1/1 - 0s - loss: 0.0656 - accuracy: 0.9133 - val_loss: 0.1047 - val_accuracy: 0.8800 - 404ms/epoch - 404ms/step\n",
      "Epoch 181/200\n",
      "1/1 - 0s - loss: 0.0780 - accuracy: 0.8978 - val_loss: 0.0528 - val_accuracy: 0.9400 - 418ms/epoch - 418ms/step\n",
      "Epoch 182/200\n",
      "1/1 - 0s - loss: 0.0412 - accuracy: 0.9533 - val_loss: 0.0290 - val_accuracy: 0.9800 - 413ms/epoch - 413ms/step\n",
      "Epoch 183/200\n",
      "1/1 - 0s - loss: 0.0687 - accuracy: 0.9156 - val_loss: 0.0313 - val_accuracy: 0.9600 - 417ms/epoch - 417ms/step\n",
      "Epoch 184/200\n",
      "1/1 - 0s - loss: 0.0417 - accuracy: 0.9489 - val_loss: 0.0812 - val_accuracy: 0.9000 - 407ms/epoch - 407ms/step\n",
      "Epoch 185/200\n",
      "1/1 - 0s - loss: 0.0628 - accuracy: 0.9200 - val_loss: 0.0593 - val_accuracy: 0.9200 - 417ms/epoch - 417ms/step\n",
      "Epoch 186/200\n",
      "1/1 - 0s - loss: 0.0484 - accuracy: 0.9444 - val_loss: 0.0288 - val_accuracy: 0.9600 - 409ms/epoch - 409ms/step\n",
      "Epoch 187/200\n",
      "1/1 - 0s - loss: 0.0470 - accuracy: 0.9400 - val_loss: 0.0292 - val_accuracy: 0.9600 - 420ms/epoch - 420ms/step\n",
      "Epoch 188/200\n",
      "1/1 - 0s - loss: 0.0449 - accuracy: 0.9444 - val_loss: 0.0538 - val_accuracy: 0.9400 - 424ms/epoch - 424ms/step\n",
      "Epoch 189/200\n",
      "1/1 - 0s - loss: 0.0432 - accuracy: 0.9467 - val_loss: 0.0666 - val_accuracy: 0.9000 - 428ms/epoch - 428ms/step\n",
      "Epoch 190/200\n",
      "1/1 - 0s - loss: 0.0490 - accuracy: 0.9378 - val_loss: 0.0322 - val_accuracy: 0.9600 - 417ms/epoch - 417ms/step\n",
      "Epoch 191/200\n",
      "1/1 - 0s - loss: 0.0349 - accuracy: 0.9667 - val_loss: 0.0327 - val_accuracy: 0.9800 - 419ms/epoch - 419ms/step\n",
      "Epoch 192/200\n",
      "1/1 - 0s - loss: 0.0533 - accuracy: 0.9289 - val_loss: 0.0539 - val_accuracy: 0.9400 - 405ms/epoch - 405ms/step\n",
      "Epoch 193/200\n",
      "1/1 - 0s - loss: 0.0377 - accuracy: 0.9622 - val_loss: 0.0812 - val_accuracy: 0.9000 - 416ms/epoch - 416ms/step\n",
      "Epoch 194/200\n",
      "1/1 - 0s - loss: 0.0550 - accuracy: 0.9244 - val_loss: 0.0326 - val_accuracy: 0.9600 - 425ms/epoch - 425ms/step\n",
      "Epoch 195/200\n",
      "1/1 - 0s - loss: 0.0347 - accuracy: 0.9667 - val_loss: 0.0425 - val_accuracy: 0.9400 - 439ms/epoch - 439ms/step\n",
      "Epoch 196/200\n",
      "1/1 - 0s - loss: 0.0603 - accuracy: 0.9111 - val_loss: 0.0731 - val_accuracy: 0.9000 - 404ms/epoch - 404ms/step\n",
      "Epoch 197/200\n",
      "1/1 - 0s - loss: 0.0482 - accuracy: 0.9356 - val_loss: 0.0815 - val_accuracy: 0.9000 - 414ms/epoch - 414ms/step\n",
      "Epoch 198/200\n",
      "1/1 - 0s - loss: 0.0567 - accuracy: 0.9267 - val_loss: 0.0305 - val_accuracy: 0.9600 - 433ms/epoch - 433ms/step\n",
      "Epoch 199/200\n",
      "1/1 - 0s - loss: 0.0362 - accuracy: 0.9622 - val_loss: 0.0325 - val_accuracy: 0.9600 - 395ms/epoch - 395ms/step\n",
      "Epoch 200/200\n",
      "1/1 - 0s - loss: 0.0659 - accuracy: 0.9156 - val_loss: 0.0394 - val_accuracy: 0.9600 - 398ms/epoch - 398ms/step\n"
     ]
    }
   ],
   "source": [
    "epoch = 200\n",
    "batchS = 500\n",
    "\n",
    "history = model.fit(np.array(data[0:450]), np.array(target[0:450]), epochs=epoch,\n",
    "                    validation_data=(np.array(data[450:]), np.array(target[450:])), \n",
    "                    batch_size=batchS, verbose=2)"
   ]
  },
  {
   "cell_type": "code",
   "execution_count": null,
   "metadata": {
    "colab": {
     "base_uri": "https://localhost:8080/"
    },
    "id": "VDXFFy6zBG3X",
    "outputId": "6959afb0-74b3-48b5-92c2-898550d3166c"
   },
   "outputs": [
    {
     "name": "stdout",
     "output_type": "stream",
     "text": [
      "16/16 [==============================] - 0s 24ms/step - loss: 0.0549 - accuracy: 0.9320\n"
     ]
    }
   ],
   "source": [
    "result = model.evaluate(np.array(data_test), np.array(target_test))"
   ]
  },
  {
   "cell_type": "code",
   "execution_count": null,
   "metadata": {
    "colab": {
     "base_uri": "https://localhost:8080/"
    },
    "id": "wBV2t2Q6BOt9",
    "outputId": "3f1a2f97-76ea-4c24-ab23-c6ef196d060f"
   },
   "outputs": [
    {
     "name": "stdout",
     "output_type": "stream",
     "text": [
      "loss 0.05492210388183594\n",
      "accuracy 0.9319999814033508\n"
     ]
    }
   ],
   "source": [
    "for name, value in zip(model.metrics_names, result):\n",
    "    print(name, value)"
   ]
  },
  {
   "cell_type": "code",
   "execution_count": null,
   "metadata": {
    "colab": {
     "base_uri": "https://localhost:8080/",
     "height": 642
    },
    "id": "zO6YSbxgBZ3f",
    "outputId": "33690be4-de75-4706-f101-1602c9cbf72f"
   },
   "outputs": [
    {
     "name": "stderr",
     "output_type": "stream",
     "text": [
      "The PostScript backend does not support transparency; partially transparent artists will be rendered opaque.\n",
      "The PostScript backend does not support transparency; partially transparent artists will be rendered opaque.\n"
     ]
    },
    {
     "data": {
      "image/png": "[encoded data removed]",
      "text/plain": [
       "<Figure size 432x288 with 1 Axes>"
      ]
     },
     "metadata": {},
     "output_type": "display_data"
    },
    {
     "name": "stderr",
     "output_type": "stream",
     "text": [
      "The PostScript backend does not support transparency; partially transparent artists will be rendered opaque.\n",
      "The PostScript backend does not support transparency; partially transparent artists will be rendered opaque.\n"
     ]
    },
    {
     "data": {
      "image/png": "[encoded data removed]",
      "text/plain": [
       "<Figure size 432x288 with 1 Axes>"
      ]
     },
     "metadata": {},
     "output_type": "display_data"
    }
   ],
   "source": [
    "plt.plot(history.history['accuracy'])\n",
    "plt.plot(history.history['val_accuracy'])\n",
    "plt.title('model accuracy')\n",
    "plt.ylabel('accuracy')\n",
    "plt.xlabel('epoch')\n",
    "plt.legend(['train', 'validation'], loc='upper left')\n",
    "plt.savefig('destination_path.eps', format='eps', dpi=1000)\n",
    "plt.show()\n",
    "# summarize history for loss\n",
    "plt.plot(history.history['loss'])\n",
    "plt.plot(history.history['val_loss'])\n",
    "plt.title('model loss')\n",
    "plt.ylabel('loss')\n",
    "plt.xlabel('epoch')\n",
    "plt.legend(['train', 'validation'], loc='upper left')\n",
    "plt.savefig('destination_path1.eps', format='eps', dpi=1000)\n",
    "plt.show()"
   ]
  },
  {
   "cell_type": "markdown",
   "metadata": {
    "id": "uUPp1a8ZhfDE"
   },
   "source": [
    "در اینجا ما خروجی های شبکه رزنت که از لایه فولی کانکتد دوم گرفتیم را برای هر ویديو استخراج کردیم. دیل استفاده از لایه فولی کانکتد دوم این بود که سه لایه فولی کانکتد در شبکه وجود داشت که لایه آخر جهت طبقه بندی به کار می رفت و در نتیجه به درد کار ما نمی خورد ولی لایه های قبلی اطلاعات ارزشمندی را در خودشون داشتن. با استفاده از این اطلاعات یک شبکه بازگشتی طراحی شد که شامل یک لایه 512 تایی بلوک ال اس تی ام و 3 لایه فولی کانکتد بود. این شبکه بازگشتی می تواند مفهوم زمان و توالی را بهتر از شبکه های دیگر درک کند. "
   ]
  },
  {
   "cell_type": "code",
   "execution_count": null,
   "metadata": {
    "id": "gWLGnUCWihzE"
   },
   "outputs": [],
   "source": []
  }
 ],
 "metadata": {
  "accelerator": "GPU",
  "colab": {
   "name": "HW3Q5_1.ipynb",
   "provenance": [],
   "toc_visible": true
  },
  "kernelspec": {
   "display_name": "Python 3",
   "language": "python",
   "name": "python3"
  },
  "language_info": {
   "codemirror_mode": {
    "name": "ipython",
    "version": 3
   },
   "file_extension": ".py",
   "mimetype": "text/x-python",
   "name": "python",
   "nbconvert_exporter": "python",
   "pygments_lexer": "ipython3",
   "version": "3.6.9"
  }
 },
 "nbformat": 4,
 "nbformat_minor": 1
}
