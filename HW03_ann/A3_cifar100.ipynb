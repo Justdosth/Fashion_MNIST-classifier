{
  "cells": [
    {
      "cell_type": "code",
      "execution_count": 1,
      "metadata": {
        "colab": {
          "base_uri": "https://localhost:8080/"
        },
        "id": "hML6elJQn8M-",
        "outputId": "56246678-50b0-4004-be9b-693adda5357d"
      },
      "outputs": [
        {
          "output_type": "stream",
          "name": "stdout",
          "text": [
            "Downloading data from https://www.cs.toronto.edu/~kriz/cifar-100-python.tar.gz\n",
            "169009152/169001437 [==============================] - 2s 0us/step\n",
            "169017344/169001437 [==============================] - 2s 0us/step\n"
          ]
        }
      ],
      "source": [
        "from tensorflow.keras.datasets import cifar100\n",
        "(X_train, Y_train), (X_test, Y_test) = cifar100.load_data()"
      ]
    },
    {
      "cell_type": "code",
      "execution_count": 2,
      "metadata": {
        "id": "KLw6XKw8n8NG"
      },
      "outputs": [],
      "source": [
        "import matplotlib.pyplot as plt\n",
        "%matplotlib inline"
      ]
    },
    {
      "cell_type": "code",
      "execution_count": 3,
      "metadata": {
        "id": "EJxHcQ5wn8NI"
      },
      "outputs": [],
      "source": [
        "import tensorflow as tf\n",
        "import numpy as np"
      ]
    },
    {
      "cell_type": "code",
      "execution_count": 4,
      "metadata": {
        "id": "3gSrBniJn8NJ"
      },
      "outputs": [],
      "source": [
        "from tensorflow.keras.layers import Input, Conv2D, MaxPooling2D, Flatten,Dense, Dropout, BatchNormalization\n",
        "from tensorflow.keras.models import Sequential\n",
        "from tensorflow.keras.optimizers import Adam, RMSprop"
      ]
    },
    {
      "cell_type": "code",
      "execution_count": 22,
      "metadata": {
        "id": "W11uZW3tn8NK"
      },
      "outputs": [],
      "source": [
        "img_width  = 32\n",
        "img_height = 32\n",
        "channels   = 3\n",
        "\n",
        "num_classes = 100\n",
        "\n",
        "batch_size = 50\n",
        "num_epochs = 50\n",
        "# iterations = 5\n",
        "# nb_augmentation = 2"
      ]
    },
    {
      "cell_type": "code",
      "execution_count": 6,
      "metadata": {
        "id": "Ik5tjm3mn8NK"
      },
      "outputs": [],
      "source": [
        "import tensorflow as tf\n",
        "\n",
        "def preprocess_data(images, targets, use_augmentation=False, nb_of_augmentation=1):\n",
        "    \"\"\"\n",
        "    images: raw image\n",
        "    targets: target label\n",
        "    use_augmentation: True if augmentation should be used\n",
        "    nb_of_augmentation: If use_augmentation=True, number of augmentations\n",
        "    \"\"\"\n",
        "    X = []\n",
        "    y = []\n",
        "    for x_, y_ in zip(images, targets):\n",
        "        \n",
        "        # scaling pixels between 0.0-1.0\n",
        "        x_ = x_ / 255.\n",
        "        \n",
        "        # data Augmentation\n",
        "        if use_augmentation:\n",
        "            argu_img = image_augmentation(x_, nb_of_augmentation)\n",
        "            for a in argu_img:\n",
        "                X.append(a.reshape(img_height, img_width, channels))\n",
        "                y.append(y_)\n",
        "\n",
        "        X.append(x_)\n",
        "        y.append(y_)\n",
        "    print('*Preprocessing completed: %i samples\\n' % len(X))\n",
        "    return np.array(X), tf.keras.utils.to_categorical(y)"
      ]
    },
    {
      "cell_type": "code",
      "execution_count": 7,
      "metadata": {
        "id": "7ck8N7Rsn8NM"
      },
      "outputs": [],
      "source": [
        "X_train = X_train.reshape(-1, 32, 32, 3)"
      ]
    },
    {
      "cell_type": "code",
      "execution_count": 8,
      "metadata": {
        "colab": {
          "base_uri": "https://localhost:8080/"
        },
        "id": "tcZ-_Eqpn8NN",
        "outputId": "1ce2924e-5cf5-44de-e196-4d77e257cda2"
      },
      "outputs": [
        {
          "output_type": "stream",
          "name": "stdout",
          "text": [
            "*Preprocessing completed: 50000 samples\n",
            "\n"
          ]
        }
      ],
      "source": [
        "X_train_shaped, y_train_shaped = preprocess_data(X_train, Y_train)"
      ]
    },
    {
      "cell_type": "code",
      "execution_count": 9,
      "metadata": {
        "colab": {
          "base_uri": "https://localhost:8080/"
        },
        "id": "qlZ9dGsYn8NP",
        "outputId": "c9cdeaaf-60d3-423a-a0bb-99b9fa6f5fa9"
      },
      "outputs": [
        {
          "output_type": "stream",
          "name": "stdout",
          "text": [
            "*Preprocessing completed: 10000 samples\n",
            "\n"
          ]
        }
      ],
      "source": [
        "X_test_shaped, y_test_shaped   = preprocess_data(X_test,  Y_test)"
      ]
    },
    {
      "cell_type": "code",
      "execution_count": 26,
      "metadata": {
        "colab": {
          "base_uri": "https://localhost:8080/"
        },
        "id": "QBjn9121n8NQ",
        "outputId": "254369ec-47f2-4789-ef80-d3f378531dda"
      },
      "outputs": [
        {
          "output_type": "stream",
          "name": "stdout",
          "text": [
            "Model: \"sequential_12\"\n",
            "_________________________________________________________________\n",
            " Layer (type)                Output Shape              Param #   \n",
            "=================================================================\n",
            " conv2d_41 (Conv2D)          (None, 30, 30, 32)        896       \n",
            "                                                                 \n",
            " max_pooling2d_12 (MaxPoolin  (None, 15, 15, 32)       0         \n",
            " g2D)                                                            \n",
            "                                                                 \n",
            " dropout (Dropout)           (None, 15, 15, 32)        0         \n",
            "                                                                 \n",
            " conv2d_42 (Conv2D)          (None, 13, 13, 64)        18496     \n",
            "                                                                 \n",
            " max_pooling2d_13 (MaxPoolin  (None, 6, 6, 64)         0         \n",
            " g2D)                                                            \n",
            "                                                                 \n",
            " dropout_1 (Dropout)         (None, 6, 6, 64)          0         \n",
            "                                                                 \n",
            " conv2d_43 (Conv2D)          (None, 4, 4, 128)         73856     \n",
            "                                                                 \n",
            " max_pooling2d_14 (MaxPoolin  (None, 2, 2, 128)        0         \n",
            " g2D)                                                            \n",
            "                                                                 \n",
            " dropout_2 (Dropout)         (None, 2, 2, 128)         0         \n",
            "                                                                 \n",
            " flatten_11 (Flatten)        (None, 512)               0         \n",
            "                                                                 \n",
            " dense_42 (Dense)            (None, 512)               262656    \n",
            "                                                                 \n",
            " dense_43 (Dense)            (None, 256)               131328    \n",
            "                                                                 \n",
            " dropout_3 (Dropout)         (None, 256)               0         \n",
            "                                                                 \n",
            " dense_44 (Dense)            (None, 128)               32896     \n",
            "                                                                 \n",
            " dense_45 (Dense)            (None, 100)               12900     \n",
            "                                                                 \n",
            "=================================================================\n",
            "Total params: 533,028\n",
            "Trainable params: 533,028\n",
            "Non-trainable params: 0\n",
            "_________________________________________________________________\n"
          ]
        }
      ],
      "source": [
        "def create_model():\n",
        "    \"\"\"\n",
        "    Creates a simple sequential model\n",
        "    \"\"\"\n",
        "    \n",
        "    cnn = tf.keras.Sequential()\n",
        "    \n",
        "    cnn.add(tf.keras.layers.InputLayer(input_shape=(img_height,img_width,channels)))\n",
        "    \n",
        "    cnn.add(tf.keras.layers.Convolution2D(32, (3, 3), activation='relu'))\n",
        "    cnn.add(tf.keras.layers.MaxPooling2D(pool_size=(2, 2)))\n",
        "    cnn.add(tf.keras.layers.Dropout(0.1))\n",
        "\n",
        "    cnn.add(tf.keras.layers.Convolution2D(64, (3, 3), activation='relu'))\n",
        "    cnn.add(tf.keras.layers.MaxPooling2D(pool_size=(2, 2)))\n",
        "    cnn.add(tf.keras.layers.Dropout(0.3))\n",
        "\n",
        "    cnn.add(tf.keras.layers.Convolution2D(128, (3, 3), activation='relu'))\n",
        "    cnn.add(tf.keras.layers.MaxPooling2D(pool_size=(2, 2)))\n",
        "    cnn.add(tf.keras.layers.Dropout(0.1))\n",
        "\n",
        "    cnn.add(tf.keras.layers.Flatten())\n",
        "    cnn.add(tf.keras.layers.Dense(512, activation='relu'))\n",
        "    cnn.add(tf.keras.layers.Dense(256, activation='relu'))\n",
        "\n",
        "    cnn.add(tf.keras.layers.Dropout(0.2))\n",
        "\n",
        "    cnn.add(tf.keras.layers.Dense(128, activation='relu'))\n",
        "    cnn.add(tf.keras.layers.Dense(num_classes, activation='softmax'))\n",
        "    cnn.compile(loss='categorical_crossentropy', optimizer=Adam(), metrics=['accuracy'])\n",
        "\n",
        "    return cnn\n",
        "\n",
        "create_model().summary()"
      ]
    },
    {
      "cell_type": "code",
      "execution_count": 11,
      "metadata": {
        "id": "SFvJlzWGn8NS"
      },
      "outputs": [],
      "source": [
        "from sklearn.model_selection import train_test_split\n",
        "X_train_, X_val_, y_train_, y_val_ = train_test_split(X_train_shaped, y_train_shaped,test_size=0.2, random_state=42)"
      ]
    },
    {
      "cell_type": "code",
      "execution_count": 27,
      "metadata": {
        "colab": {
          "base_uri": "https://localhost:8080/"
        },
        "id": "pkWUlSIcn8NV",
        "outputId": "ed2ab07b-f102-47c4-83ae-d34f3b45b693"
      },
      "outputs": [
        {
          "output_type": "stream",
          "name": "stdout",
          "text": [
            "Epoch 1/50\n",
            "800/800 [==============================] - 12s 14ms/step - loss: 4.3287 - accuracy: 0.0299 - val_loss: 4.0414 - val_accuracy: 0.0578\n",
            "Epoch 2/50\n",
            "800/800 [==============================] - 11s 13ms/step - loss: 3.9435 - accuracy: 0.0796 - val_loss: 3.7292 - val_accuracy: 0.1229\n",
            "Epoch 3/50\n",
            "800/800 [==============================] - 11s 13ms/step - loss: 3.6456 - accuracy: 0.1324 - val_loss: 3.4710 - val_accuracy: 0.1684\n",
            "Epoch 4/50\n",
            "800/800 [==============================] - 11s 14ms/step - loss: 3.4343 - accuracy: 0.1713 - val_loss: 3.2629 - val_accuracy: 0.2040\n",
            "Epoch 5/50\n",
            "800/800 [==============================] - 11s 14ms/step - loss: 3.2899 - accuracy: 0.1980 - val_loss: 3.2171 - val_accuracy: 0.2217\n",
            "Epoch 6/50\n",
            "800/800 [==============================] - 11s 13ms/step - loss: 3.1722 - accuracy: 0.2191 - val_loss: 3.0738 - val_accuracy: 0.2403\n",
            "Epoch 7/50\n",
            "800/800 [==============================] - 11s 13ms/step - loss: 3.0704 - accuracy: 0.2397 - val_loss: 2.9433 - val_accuracy: 0.2671\n",
            "Epoch 8/50\n",
            "800/800 [==============================] - 11s 13ms/step - loss: 2.9858 - accuracy: 0.2528 - val_loss: 2.8807 - val_accuracy: 0.2820\n",
            "Epoch 9/50\n",
            "800/800 [==============================] - 12s 15ms/step - loss: 2.9121 - accuracy: 0.2696 - val_loss: 2.8350 - val_accuracy: 0.2886\n",
            "Epoch 10/50\n",
            "800/800 [==============================] - 11s 14ms/step - loss: 2.8427 - accuracy: 0.2842 - val_loss: 2.8779 - val_accuracy: 0.2877\n",
            "Epoch 11/50\n",
            "800/800 [==============================] - 11s 14ms/step - loss: 2.7869 - accuracy: 0.2950 - val_loss: 2.8239 - val_accuracy: 0.2990\n",
            "Epoch 12/50\n",
            "800/800 [==============================] - 11s 14ms/step - loss: 2.7182 - accuracy: 0.3065 - val_loss: 2.7378 - val_accuracy: 0.3158\n",
            "Epoch 13/50\n",
            "800/800 [==============================] - 11s 14ms/step - loss: 2.6619 - accuracy: 0.3170 - val_loss: 2.6995 - val_accuracy: 0.3230\n",
            "Epoch 14/50\n",
            "800/800 [==============================] - 11s 14ms/step - loss: 2.6279 - accuracy: 0.3282 - val_loss: 2.7031 - val_accuracy: 0.3165\n",
            "Epoch 15/50\n",
            "800/800 [==============================] - 11s 14ms/step - loss: 2.5776 - accuracy: 0.3354 - val_loss: 2.6810 - val_accuracy: 0.3230\n",
            "Epoch 16/50\n",
            "800/800 [==============================] - 11s 14ms/step - loss: 2.5282 - accuracy: 0.3453 - val_loss: 2.6597 - val_accuracy: 0.3326\n",
            "Epoch 17/50\n",
            "800/800 [==============================] - 11s 14ms/step - loss: 2.4902 - accuracy: 0.3539 - val_loss: 2.6613 - val_accuracy: 0.3305\n",
            "Epoch 18/50\n",
            "800/800 [==============================] - 11s 13ms/step - loss: 2.4555 - accuracy: 0.3645 - val_loss: 2.5993 - val_accuracy: 0.3478\n",
            "Epoch 19/50\n",
            "800/800 [==============================] - 11s 14ms/step - loss: 2.4245 - accuracy: 0.3693 - val_loss: 2.5975 - val_accuracy: 0.3481\n",
            "Epoch 20/50\n",
            "800/800 [==============================] - 11s 14ms/step - loss: 2.3876 - accuracy: 0.3755 - val_loss: 2.6076 - val_accuracy: 0.3437\n",
            "Epoch 21/50\n",
            "800/800 [==============================] - 11s 14ms/step - loss: 2.3638 - accuracy: 0.3810 - val_loss: 2.5905 - val_accuracy: 0.3545\n",
            "Epoch 22/50\n",
            "800/800 [==============================] - 11s 13ms/step - loss: 2.3186 - accuracy: 0.3922 - val_loss: 2.5790 - val_accuracy: 0.3547\n",
            "Epoch 23/50\n",
            "800/800 [==============================] - 11s 13ms/step - loss: 2.3045 - accuracy: 0.3941 - val_loss: 2.5645 - val_accuracy: 0.3548\n",
            "Epoch 24/50\n",
            "800/800 [==============================] - 11s 14ms/step - loss: 2.2691 - accuracy: 0.4008 - val_loss: 2.5835 - val_accuracy: 0.3567\n",
            "Epoch 25/50\n",
            "800/800 [==============================] - 11s 13ms/step - loss: 2.2451 - accuracy: 0.4060 - val_loss: 2.6214 - val_accuracy: 0.3534\n",
            "Epoch 26/50\n",
            "800/800 [==============================] - 11s 13ms/step - loss: 2.2287 - accuracy: 0.4078 - val_loss: 2.5689 - val_accuracy: 0.3573\n",
            "Epoch 27/50\n",
            "800/800 [==============================] - 13s 16ms/step - loss: 2.2062 - accuracy: 0.4146 - val_loss: 2.5403 - val_accuracy: 0.3658\n",
            "Epoch 28/50\n",
            "800/800 [==============================] - 12s 15ms/step - loss: 2.1757 - accuracy: 0.4186 - val_loss: 2.5272 - val_accuracy: 0.3705\n",
            "Epoch 29/50\n",
            "800/800 [==============================] - 11s 14ms/step - loss: 2.1561 - accuracy: 0.4259 - val_loss: 2.5872 - val_accuracy: 0.3662\n",
            "Epoch 30/50\n",
            "800/800 [==============================] - 11s 13ms/step - loss: 2.1505 - accuracy: 0.4266 - val_loss: 2.5854 - val_accuracy: 0.3615\n",
            "Epoch 31/50\n",
            "800/800 [==============================] - 11s 14ms/step - loss: 2.1290 - accuracy: 0.4322 - val_loss: 2.5537 - val_accuracy: 0.3664\n",
            "Epoch 32/50\n",
            "800/800 [==============================] - 11s 13ms/step - loss: 2.1014 - accuracy: 0.4380 - val_loss: 2.5572 - val_accuracy: 0.3737\n",
            "Epoch 33/50\n",
            "800/800 [==============================] - 11s 14ms/step - loss: 2.0810 - accuracy: 0.4394 - val_loss: 2.5627 - val_accuracy: 0.3683\n",
            "Epoch 34/50\n",
            "800/800 [==============================] - 11s 14ms/step - loss: 2.0780 - accuracy: 0.4423 - val_loss: 2.5881 - val_accuracy: 0.3622\n",
            "Epoch 35/50\n",
            "800/800 [==============================] - 12s 15ms/step - loss: 2.0498 - accuracy: 0.4495 - val_loss: 2.5380 - val_accuracy: 0.3740\n",
            "Epoch 36/50\n",
            "800/800 [==============================] - 11s 14ms/step - loss: 2.0441 - accuracy: 0.4476 - val_loss: 2.5564 - val_accuracy: 0.3747\n",
            "Epoch 37/50\n",
            "800/800 [==============================] - 11s 14ms/step - loss: 2.0231 - accuracy: 0.4547 - val_loss: 2.5961 - val_accuracy: 0.3678\n",
            "Epoch 38/50\n",
            "800/800 [==============================] - 11s 13ms/step - loss: 2.0216 - accuracy: 0.4573 - val_loss: 2.6114 - val_accuracy: 0.3609\n",
            "Epoch 39/50\n",
            "800/800 [==============================] - 11s 13ms/step - loss: 1.9999 - accuracy: 0.4568 - val_loss: 2.5546 - val_accuracy: 0.3782\n",
            "Epoch 40/50\n",
            "800/800 [==============================] - 11s 14ms/step - loss: 1.9912 - accuracy: 0.4642 - val_loss: 2.5389 - val_accuracy: 0.3745\n",
            "Epoch 41/50\n",
            "800/800 [==============================] - 11s 13ms/step - loss: 1.9687 - accuracy: 0.4667 - val_loss: 2.5726 - val_accuracy: 0.3745\n",
            "Epoch 42/50\n",
            "800/800 [==============================] - 11s 13ms/step - loss: 1.9660 - accuracy: 0.4633 - val_loss: 2.5709 - val_accuracy: 0.3723\n",
            "Epoch 43/50\n",
            "800/800 [==============================] - 11s 13ms/step - loss: 1.9385 - accuracy: 0.4741 - val_loss: 2.5705 - val_accuracy: 0.3751\n",
            "Epoch 44/50\n",
            "800/800 [==============================] - 11s 14ms/step - loss: 1.9444 - accuracy: 0.4714 - val_loss: 2.5568 - val_accuracy: 0.3756\n",
            "Epoch 45/50\n",
            "800/800 [==============================] - 11s 14ms/step - loss: 1.9385 - accuracy: 0.4722 - val_loss: 2.5859 - val_accuracy: 0.3712\n",
            "Epoch 46/50\n",
            "800/800 [==============================] - 11s 14ms/step - loss: 1.9099 - accuracy: 0.4807 - val_loss: 2.6353 - val_accuracy: 0.3717\n",
            "Epoch 47/50\n",
            "800/800 [==============================] - 11s 13ms/step - loss: 1.9108 - accuracy: 0.4786 - val_loss: 2.6832 - val_accuracy: 0.3599\n",
            "Epoch 48/50\n",
            "800/800 [==============================] - 11s 14ms/step - loss: 1.9065 - accuracy: 0.4809 - val_loss: 2.6590 - val_accuracy: 0.3667\n",
            "Epoch 49/50\n",
            "800/800 [==============================] - 11s 14ms/step - loss: 1.8858 - accuracy: 0.4859 - val_loss: 2.6022 - val_accuracy: 0.3726\n",
            "Epoch 50/50\n",
            "800/800 [==============================] - 12s 15ms/step - loss: 1.8701 - accuracy: 0.4900 - val_loss: 2.6563 - val_accuracy: 0.3641\n"
          ]
        }
      ],
      "source": [
        "cnn = create_model()\n",
        "history = cnn.fit(\n",
        "                    X_train_,\n",
        "                    y_train_,\n",
        "                    epochs=num_epochs,\n",
        "                    batch_size=batch_size,\n",
        "                    validation_data=(X_val_, y_val_)\n",
        "                )"
      ]
    },
    {
      "cell_type": "code",
      "execution_count": 28,
      "metadata": {
        "id": "OcNNev_Yn8NW"
      },
      "outputs": [],
      "source": [
        "def plot_acc_loss(title, model, key_acc, key_loss):\n",
        "    fig, (ax1, ax2) = plt.subplots(1, 2)\n",
        "    \n",
        "    # Accuracy\n",
        "    ax1.set_title('Model accuracy (%s)' % title)\n",
        "    names = []\n",
        "    ax1.plot(model[key_acc])\n",
        "    ax1.set_xlabel('epoch')\n",
        "    names.append('Model')\n",
        "    ax1.set_ylabel('accuracy')\n",
        "    ax1.legend(names, loc='upper left')\n",
        "    \n",
        "    # Loss\n",
        "    ax2.set_title('Model loss')\n",
        "    ax2.plot(model[key_loss])\n",
        "    ax2.set_xlabel('epoch')\n",
        "    ax2.set_ylabel('loss')\n",
        "    ax2.legend(names, loc='upper right')\n",
        "    fig.set_size_inches(20, 5)\n",
        "    plt.show()"
      ]
    },
    {
      "cell_type": "code",
      "execution_count": 29,
      "metadata": {
        "colab": {
          "base_uri": "https://localhost:8080/",
          "height": 683
        },
        "id": "2PJ0g6DWn8NX",
        "outputId": "666a0b52-e0c5-46f7-91c5-be05fae055e8"
      },
      "outputs": [
        {
          "output_type": "display_data",
          "data": {
            "image/png": "[encoded data removed]",
            "text/plain": [
              "<Figure size 1440x360 with 2 Axes>"
            ]
          },
          "metadata": {
            "needs_background": "light"
          }
        },
        {
          "output_type": "display_data",
          "data": {
            "image/png": "[encoded data removed]",
            "text/plain": [
              "<Figure size 1440x360 with 2 Axes>"
            ]
          },
          "metadata": {
            "needs_background": "light"
          }
        }
      ],
      "source": [
        "plot_acc_loss('training', history.history, 'accuracy', 'loss')\n",
        "plot_acc_loss('validation', history.history, 'val_accuracy', 'val_loss')"
      ]
    },
    {
      "cell_type": "code",
      "execution_count": null,
      "metadata": {
        "id": "HEkzAsRjn8NX"
      },
      "outputs": [],
      "source": [
        ""
      ]
    }
  ],
  "metadata": {
    "kernelspec": {
      "display_name": "Python 3",
      "language": "python",
      "name": "python3"
    },
    "language_info": {
      "codemirror_mode": {
        "name": "ipython",
        "version": 3
      },
      "file_extension": ".py",
      "mimetype": "text/x-python",
      "name": "python",
      "nbconvert_exporter": "python",
      "pygments_lexer": "ipython3",
      "version": "3.6.9"
    },
    "colab": {
      "name": "cifar100.ipynb",
      "provenance": []
    },
    "accelerator": "GPU"
  },
  "nbformat": 4,
  "nbformat_minor": 0
}